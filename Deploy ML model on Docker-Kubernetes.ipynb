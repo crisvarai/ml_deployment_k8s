{
 "cells": [
  {
   "cell_type": "markdown",
   "metadata": {},
   "source": [
    "# ML Model Training"
   ]
  },
  {
   "cell_type": "markdown",
   "metadata": {},
   "source": [
    "Note: Install Install the **libomp.dylib** library using a package manager like Homebrew.\n",
    "\n",
    "`brew install libomp`\n",
    "\n",
    "Which is required for LightGBM to function properly."
   ]
  },
  {
   "cell_type": "markdown",
   "metadata": {},
   "source": [
    "### Import Dependencies"
   ]
  },
  {
   "cell_type": "code",
   "execution_count": 1,
   "metadata": {},
   "outputs": [],
   "source": [
    "## data_df_df Analysis packages\n",
    "import os\n",
    "import sys\n",
    "import numpy as np\n",
    "import pandas as pd\n",
    "import joblib\n",
    "\n",
    "## Machine learning packages\n",
    "import sklearn\n",
    "import lightgbm as lgb\n",
    "from sklearn.model_selection import train_test_split\n",
    "from lightgbm import LGBMClassifier\n",
    "from sklearn.metrics import classification_report, roc_curve, auc\n",
    "from category_encoders import OrdinalEncoder\n",
    "\n",
    "import warnings \n",
    "warnings.filterwarnings(\"ignore\")"
   ]
  },
  {
   "cell_type": "code",
   "execution_count": 2,
   "metadata": {},
   "outputs": [
    {
     "name": "stdout",
     "output_type": "stream",
     "text": [
      "Pandas Version: 2.0.3\n",
      "Numpy Version: 1.24.4\n",
      "scikit-learn Version: 1.3.2\n",
      "joblib Version: 1.4.2\n",
      "lightgbm Version: 4.5.0\n"
     ]
    }
   ],
   "source": [
    "print(f\"Pandas Version: {pd.__version__}\")\n",
    "print(f\"Numpy Version: {np.__version__}\")\n",
    "print(f\"scikit-learn Version: {sklearn.__version__}\")\n",
    "print(f\"joblib Version: {joblib.__version__}\")\n",
    "print(f\"lightgbm Version: {lgb.__version__}\")"
   ]
  },
  {
   "cell_type": "markdown",
   "metadata": {},
   "source": [
    "### Load Dataset"
   ]
  },
  {
   "cell_type": "code",
   "execution_count": 3,
   "metadata": {},
   "outputs": [
    {
     "name": "stdout",
     "output_type": "stream",
     "text": [
      "The dataset has 215 samples with 15 features.\n"
     ]
    }
   ],
   "source": [
    "\n",
    "# Dataset File\n",
    "data_file = './data/Placement_Data_Full_Class.csv'\n",
    "\n",
    "# Load train loan dataset\n",
    "try:\n",
    "    data = pd.read_csv(data_file)\n",
    "    print(\"The dataset has {} samples with {} features.\".format(*data.shape))\n",
    "except:\n",
    "    print(\"The dataset could not be loaded. Is the dataset missing?\")"
   ]
  },
  {
   "cell_type": "code",
   "execution_count": 4,
   "metadata": {},
   "outputs": [
    {
     "data": {
      "text/html": [
       "<div>\n",
       "<style scoped>\n",
       "    .dataframe tbody tr th:only-of-type {\n",
       "        vertical-align: middle;\n",
       "    }\n",
       "\n",
       "    .dataframe tbody tr th {\n",
       "        vertical-align: top;\n",
       "    }\n",
       "\n",
       "    .dataframe thead th {\n",
       "        text-align: right;\n",
       "    }\n",
       "</style>\n",
       "<table border=\"1\" class=\"dataframe\">\n",
       "  <thead>\n",
       "    <tr style=\"text-align: right;\">\n",
       "      <th></th>\n",
       "      <th>sl_no</th>\n",
       "      <th>gender</th>\n",
       "      <th>ssc_p</th>\n",
       "      <th>ssc_b</th>\n",
       "      <th>hsc_p</th>\n",
       "      <th>hsc_b</th>\n",
       "      <th>hsc_s</th>\n",
       "      <th>degree_p</th>\n",
       "      <th>degree_t</th>\n",
       "      <th>workex</th>\n",
       "      <th>etest_p</th>\n",
       "      <th>specialisation</th>\n",
       "      <th>mba_p</th>\n",
       "      <th>status</th>\n",
       "      <th>salary</th>\n",
       "    </tr>\n",
       "  </thead>\n",
       "  <tbody>\n",
       "    <tr>\n",
       "      <th>0</th>\n",
       "      <td>1</td>\n",
       "      <td>M</td>\n",
       "      <td>67.00</td>\n",
       "      <td>Others</td>\n",
       "      <td>91.00</td>\n",
       "      <td>Others</td>\n",
       "      <td>Commerce</td>\n",
       "      <td>58.00</td>\n",
       "      <td>Sci&amp;Tech</td>\n",
       "      <td>No</td>\n",
       "      <td>55.0</td>\n",
       "      <td>Mkt&amp;HR</td>\n",
       "      <td>58.80</td>\n",
       "      <td>Placed</td>\n",
       "      <td>270000.0</td>\n",
       "    </tr>\n",
       "    <tr>\n",
       "      <th>1</th>\n",
       "      <td>2</td>\n",
       "      <td>M</td>\n",
       "      <td>79.33</td>\n",
       "      <td>Central</td>\n",
       "      <td>78.33</td>\n",
       "      <td>Others</td>\n",
       "      <td>Science</td>\n",
       "      <td>77.48</td>\n",
       "      <td>Sci&amp;Tech</td>\n",
       "      <td>Yes</td>\n",
       "      <td>86.5</td>\n",
       "      <td>Mkt&amp;Fin</td>\n",
       "      <td>66.28</td>\n",
       "      <td>Placed</td>\n",
       "      <td>200000.0</td>\n",
       "    </tr>\n",
       "    <tr>\n",
       "      <th>2</th>\n",
       "      <td>3</td>\n",
       "      <td>M</td>\n",
       "      <td>65.00</td>\n",
       "      <td>Central</td>\n",
       "      <td>68.00</td>\n",
       "      <td>Central</td>\n",
       "      <td>Arts</td>\n",
       "      <td>64.00</td>\n",
       "      <td>Comm&amp;Mgmt</td>\n",
       "      <td>No</td>\n",
       "      <td>75.0</td>\n",
       "      <td>Mkt&amp;Fin</td>\n",
       "      <td>57.80</td>\n",
       "      <td>Placed</td>\n",
       "      <td>250000.0</td>\n",
       "    </tr>\n",
       "    <tr>\n",
       "      <th>3</th>\n",
       "      <td>4</td>\n",
       "      <td>M</td>\n",
       "      <td>56.00</td>\n",
       "      <td>Central</td>\n",
       "      <td>52.00</td>\n",
       "      <td>Central</td>\n",
       "      <td>Science</td>\n",
       "      <td>52.00</td>\n",
       "      <td>Sci&amp;Tech</td>\n",
       "      <td>No</td>\n",
       "      <td>66.0</td>\n",
       "      <td>Mkt&amp;HR</td>\n",
       "      <td>59.43</td>\n",
       "      <td>Not Placed</td>\n",
       "      <td>NaN</td>\n",
       "    </tr>\n",
       "    <tr>\n",
       "      <th>4</th>\n",
       "      <td>5</td>\n",
       "      <td>M</td>\n",
       "      <td>85.80</td>\n",
       "      <td>Central</td>\n",
       "      <td>73.60</td>\n",
       "      <td>Central</td>\n",
       "      <td>Commerce</td>\n",
       "      <td>73.30</td>\n",
       "      <td>Comm&amp;Mgmt</td>\n",
       "      <td>No</td>\n",
       "      <td>96.8</td>\n",
       "      <td>Mkt&amp;Fin</td>\n",
       "      <td>55.50</td>\n",
       "      <td>Placed</td>\n",
       "      <td>425000.0</td>\n",
       "    </tr>\n",
       "  </tbody>\n",
       "</table>\n",
       "</div>"
      ],
      "text/plain": [
       "   sl_no gender  ssc_p    ssc_b  hsc_p    hsc_b     hsc_s  degree_p  \\\n",
       "0      1      M  67.00   Others  91.00   Others  Commerce     58.00   \n",
       "1      2      M  79.33  Central  78.33   Others   Science     77.48   \n",
       "2      3      M  65.00  Central  68.00  Central      Arts     64.00   \n",
       "3      4      M  56.00  Central  52.00  Central   Science     52.00   \n",
       "4      5      M  85.80  Central  73.60  Central  Commerce     73.30   \n",
       "\n",
       "    degree_t workex  etest_p specialisation  mba_p      status    salary  \n",
       "0   Sci&Tech     No     55.0         Mkt&HR  58.80      Placed  270000.0  \n",
       "1   Sci&Tech    Yes     86.5        Mkt&Fin  66.28      Placed  200000.0  \n",
       "2  Comm&Mgmt     No     75.0        Mkt&Fin  57.80      Placed  250000.0  \n",
       "3   Sci&Tech     No     66.0         Mkt&HR  59.43  Not Placed       NaN  \n",
       "4  Comm&Mgmt     No     96.8        Mkt&Fin  55.50      Placed  425000.0  "
      ]
     },
     "execution_count": 4,
     "metadata": {},
     "output_type": "execute_result"
    }
   ],
   "source": [
    "data.head()"
   ]
  },
  {
   "cell_type": "code",
   "execution_count": 5,
   "metadata": {},
   "outputs": [
    {
     "name": "stdout",
     "output_type": "stream",
     "text": [
      "<class 'pandas.core.frame.DataFrame'>\n",
      "RangeIndex: 215 entries, 0 to 214\n",
      "Data columns (total 15 columns):\n",
      " #   Column          Non-Null Count  Dtype  \n",
      "---  ------          --------------  -----  \n",
      " 0   sl_no           215 non-null    int64  \n",
      " 1   gender          215 non-null    object \n",
      " 2   ssc_p           215 non-null    float64\n",
      " 3   ssc_b           215 non-null    object \n",
      " 4   hsc_p           215 non-null    float64\n",
      " 5   hsc_b           215 non-null    object \n",
      " 6   hsc_s           215 non-null    object \n",
      " 7   degree_p        215 non-null    float64\n",
      " 8   degree_t        215 non-null    object \n",
      " 9   workex          215 non-null    object \n",
      " 10  etest_p         215 non-null    float64\n",
      " 11  specialisation  215 non-null    object \n",
      " 12  mba_p           215 non-null    float64\n",
      " 13  status          215 non-null    object \n",
      " 14  salary          148 non-null    float64\n",
      "dtypes: float64(6), int64(1), object(8)\n",
      "memory usage: 25.3+ KB\n"
     ]
    }
   ],
   "source": [
    "data.info()"
   ]
  },
  {
   "cell_type": "markdown",
   "metadata": {},
   "source": [
    "### Data Preparation"
   ]
  },
  {
   "cell_type": "markdown",
   "metadata": {},
   "source": [
    "##### Define Target columns"
   ]
  },
  {
   "cell_type": "code",
   "execution_count": 6,
   "metadata": {},
   "outputs": [],
   "source": [
    "target = data['status'].map({\"Placed\": 0 , \"Not Placed\": 1})"
   ]
  },
  {
   "cell_type": "markdown",
   "metadata": {},
   "source": [
    "##### Define numeric and categorical features"
   ]
  },
  {
   "cell_type": "code",
   "execution_count": 7,
   "metadata": {},
   "outputs": [],
   "source": [
    "exclude_feature = ['sl_no', 'salary', 'status']\n",
    "numeric_columns = data.select_dtypes(include=['int64', 'float64']).columns.tolist()\n",
    "categorical_columns = data.select_dtypes(include=['object']).columns.tolist()\n",
    "numeric_features = [col for col in numeric_columns if col not in exclude_feature]\n",
    "categorical_features = [col for col in categorical_columns if col not in exclude_feature]"
   ]
  },
  {
   "cell_type": "markdown",
   "metadata": {},
   "source": [
    "##### Define final feature list for training and validation"
   ]
  },
  {
   "cell_type": "code",
   "execution_count": 8,
   "metadata": {},
   "outputs": [],
   "source": [
    "features = numeric_features + categorical_features"
   ]
  },
  {
   "cell_type": "markdown",
   "metadata": {},
   "source": [
    "##### Final data for training and validation"
   ]
  },
  {
   "cell_type": "code",
   "execution_count": 9,
   "metadata": {},
   "outputs": [],
   "source": [
    "data = data[features]\n",
    "data = data.fillna(0)"
   ]
  },
  {
   "cell_type": "markdown",
   "metadata": {},
   "source": [
    "##### Split data in train and validation\n"
   ]
  },
  {
   "cell_type": "code",
   "execution_count": 10,
   "metadata": {},
   "outputs": [],
   "source": [
    "X_train, X_valid, y_train, y_valid = train_test_split(data, target, test_size=0.15, random_state=10)\n",
    "X_valid.to_json(path_or_buf='./data/valid.json', orient='records', lines=True)"
   ]
  },
  {
   "cell_type": "markdown",
   "metadata": {},
   "source": [
    "##### Perform label encoding for categorical variable"
   ]
  },
  {
   "cell_type": "code",
   "execution_count": 11,
   "metadata": {},
   "outputs": [],
   "source": [
    "le = OrdinalEncoder(cols=categorical_features)\n",
    "le.fit(X_train[categorical_features])\n",
    "X_train[categorical_features] = le.transform(X_train[categorical_features])\n",
    "X_valid[categorical_features] = le.transform(X_valid[categorical_features])"
   ]
  },
  {
   "cell_type": "markdown",
   "metadata": {},
   "source": [
    "### Train model"
   ]
  },
  {
   "cell_type": "markdown",
   "metadata": {},
   "source": [
    "##### Perform model training"
   ]
  },
  {
   "cell_type": "code",
   "execution_count": 12,
   "metadata": {},
   "outputs": [
    {
     "name": "stdout",
     "output_type": "stream",
     "text": [
      "[LightGBM] [Info] Number of positive: 53, number of negative: 129\n",
      "[LightGBM] [Info] Auto-choosing col-wise multi-threading, the overhead of testing was 0.000227 seconds.\n",
      "You can set `force_col_wise=true` to remove the overhead.\n",
      "[LightGBM] [Info] Total Bins 238\n",
      "[LightGBM] [Info] Number of data points in the train set: 182, number of used features: 12\n",
      "[LightGBM] [Info] [binary:BoostFromScore]: pavg=0.291209 -> initscore=-0.889520\n",
      "[LightGBM] [Info] Start training from score -0.889520\n",
      "[LightGBM] [Warning] No further splits with positive gain, best gain: -inf\n",
      "[LightGBM] [Warning] No further splits with positive gain, best gain: -inf\n",
      "[LightGBM] [Warning] No further splits with positive gain, best gain: -inf\n",
      "[LightGBM] [Warning] No further splits with positive gain, best gain: -inf\n",
      "[LightGBM] [Warning] No further splits with positive gain, best gain: -inf\n",
      "[LightGBM] [Warning] No further splits with positive gain, best gain: -inf\n",
      "[LightGBM] [Warning] No further splits with positive gain, best gain: -inf\n",
      "[LightGBM] [Warning] No further splits with positive gain, best gain: -inf\n",
      "[LightGBM] [Warning] No further splits with positive gain, best gain: -inf\n",
      "[LightGBM] [Warning] No further splits with positive gain, best gain: -inf\n",
      "[LightGBM] [Warning] No further splits with positive gain, best gain: -inf\n",
      "[LightGBM] [Warning] No further splits with positive gain, best gain: -inf\n",
      "[LightGBM] [Warning] No further splits with positive gain, best gain: -inf\n",
      "[LightGBM] [Warning] No further splits with positive gain, best gain: -inf\n",
      "[LightGBM] [Warning] No further splits with positive gain, best gain: -inf\n",
      "[LightGBM] [Warning] No further splits with positive gain, best gain: -inf\n",
      "[LightGBM] [Warning] No further splits with positive gain, best gain: -inf\n",
      "[LightGBM] [Warning] No further splits with positive gain, best gain: -inf\n",
      "[LightGBM] [Warning] No further splits with positive gain, best gain: -inf\n",
      "[LightGBM] [Warning] No further splits with positive gain, best gain: -inf\n",
      "[LightGBM] [Warning] No further splits with positive gain, best gain: -inf\n",
      "[LightGBM] [Warning] No further splits with positive gain, best gain: -inf\n",
      "[LightGBM] [Warning] No further splits with positive gain, best gain: -inf\n",
      "[LightGBM] [Warning] No further splits with positive gain, best gain: -inf\n",
      "[LightGBM] [Warning] No further splits with positive gain, best gain: -inf\n",
      "[LightGBM] [Warning] No further splits with positive gain, best gain: -inf\n",
      "[LightGBM] [Warning] No further splits with positive gain, best gain: -inf\n",
      "[LightGBM] [Warning] No further splits with positive gain, best gain: -inf\n",
      "[LightGBM] [Warning] No further splits with positive gain, best gain: -inf\n",
      "[LightGBM] [Warning] No further splits with positive gain, best gain: -inf\n",
      "[LightGBM] [Warning] No further splits with positive gain, best gain: -inf\n",
      "[LightGBM] [Warning] No further splits with positive gain, best gain: -inf\n",
      "[LightGBM] [Warning] No further splits with positive gain, best gain: -inf\n",
      "[LightGBM] [Warning] No further splits with positive gain, best gain: -inf\n",
      "[LightGBM] [Warning] No further splits with positive gain, best gain: -inf\n",
      "[LightGBM] [Warning] No further splits with positive gain, best gain: -inf\n",
      "[LightGBM] [Warning] No further splits with positive gain, best gain: -inf\n",
      "[LightGBM] [Warning] No further splits with positive gain, best gain: -inf\n",
      "[LightGBM] [Warning] No further splits with positive gain, best gain: -inf\n",
      "[LightGBM] [Warning] No further splits with positive gain, best gain: -inf\n",
      "[LightGBM] [Warning] No further splits with positive gain, best gain: -inf\n",
      "[LightGBM] [Warning] No further splits with positive gain, best gain: -inf\n",
      "[LightGBM] [Warning] No further splits with positive gain, best gain: -inf\n",
      "[LightGBM] [Warning] No further splits with positive gain, best gain: -inf\n",
      "[LightGBM] [Warning] No further splits with positive gain, best gain: -inf\n",
      "[LightGBM] [Warning] No further splits with positive gain, best gain: -inf\n",
      "[LightGBM] [Warning] No further splits with positive gain, best gain: -inf\n",
      "[LightGBM] [Warning] No further splits with positive gain, best gain: -inf\n",
      "[LightGBM] [Warning] No further splits with positive gain, best gain: -inf\n",
      "[LightGBM] [Warning] No further splits with positive gain, best gain: -inf\n",
      "[LightGBM] [Warning] No further splits with positive gain, best gain: -inf\n",
      "[LightGBM] [Warning] No further splits with positive gain, best gain: -inf\n",
      "[LightGBM] [Warning] No further splits with positive gain, best gain: -inf\n",
      "[LightGBM] [Warning] No further splits with positive gain, best gain: -inf\n",
      "[LightGBM] [Warning] No further splits with positive gain, best gain: -inf\n",
      "[LightGBM] [Warning] No further splits with positive gain, best gain: -inf\n",
      "[LightGBM] [Warning] No further splits with positive gain, best gain: -inf\n",
      "[LightGBM] [Warning] No further splits with positive gain, best gain: -inf\n",
      "[LightGBM] [Warning] No further splits with positive gain, best gain: -inf\n",
      "[LightGBM] [Warning] No further splits with positive gain, best gain: -inf\n",
      "[LightGBM] [Warning] No further splits with positive gain, best gain: -inf\n",
      "[LightGBM] [Warning] No further splits with positive gain, best gain: -inf\n",
      "[LightGBM] [Warning] No further splits with positive gain, best gain: -inf\n",
      "[LightGBM] [Warning] No further splits with positive gain, best gain: -inf\n",
      "[LightGBM] [Warning] No further splits with positive gain, best gain: -inf\n",
      "[LightGBM] [Warning] No further splits with positive gain, best gain: -inf\n",
      "[LightGBM] [Warning] No further splits with positive gain, best gain: -inf\n",
      "[LightGBM] [Warning] No further splits with positive gain, best gain: -inf\n",
      "[LightGBM] [Warning] No further splits with positive gain, best gain: -inf\n",
      "[LightGBM] [Warning] No further splits with positive gain, best gain: -inf\n",
      "[LightGBM] [Warning] No further splits with positive gain, best gain: -inf\n",
      "[LightGBM] [Warning] No further splits with positive gain, best gain: -inf\n",
      "[LightGBM] [Warning] No further splits with positive gain, best gain: -inf\n",
      "[LightGBM] [Warning] No further splits with positive gain, best gain: -inf\n",
      "[LightGBM] [Warning] No further splits with positive gain, best gain: -inf\n",
      "[LightGBM] [Warning] No further splits with positive gain, best gain: -inf\n",
      "[LightGBM] [Warning] No further splits with positive gain, best gain: -inf\n",
      "[LightGBM] [Warning] No further splits with positive gain, best gain: -inf\n",
      "[LightGBM] [Warning] No further splits with positive gain, best gain: -inf\n",
      "[LightGBM] [Warning] No further splits with positive gain, best gain: -inf\n",
      "[LightGBM] [Warning] No further splits with positive gain, best gain: -inf\n",
      "[LightGBM] [Warning] No further splits with positive gain, best gain: -inf\n",
      "[LightGBM] [Warning] No further splits with positive gain, best gain: -inf\n",
      "[LightGBM] [Warning] No further splits with positive gain, best gain: -inf\n",
      "[LightGBM] [Warning] No further splits with positive gain, best gain: -inf\n",
      "[LightGBM] [Warning] No further splits with positive gain, best gain: -inf\n",
      "[LightGBM] [Warning] No further splits with positive gain, best gain: -inf\n",
      "[LightGBM] [Warning] No further splits with positive gain, best gain: -inf\n",
      "[LightGBM] [Warning] No further splits with positive gain, best gain: -inf\n",
      "[LightGBM] [Warning] No further splits with positive gain, best gain: -inf\n",
      "[LightGBM] [Warning] No further splits with positive gain, best gain: -inf\n",
      "[LightGBM] [Warning] No further splits with positive gain, best gain: -inf\n",
      "[LightGBM] [Warning] No further splits with positive gain, best gain: -inf\n",
      "[LightGBM] [Warning] No further splits with positive gain, best gain: -inf\n",
      "[LightGBM] [Warning] No further splits with positive gain, best gain: -inf\n",
      "[LightGBM] [Warning] No further splits with positive gain, best gain: -inf\n",
      "[LightGBM] [Warning] No further splits with positive gain, best gain: -inf\n",
      "[LightGBM] [Warning] No further splits with positive gain, best gain: -inf\n",
      "[LightGBM] [Warning] No further splits with positive gain, best gain: -inf\n",
      "[LightGBM] [Warning] No further splits with positive gain, best gain: -inf\n"
     ]
    },
    {
     "data": {
      "text/html": [
       "<style>#sk-container-id-1 {color: black;}#sk-container-id-1 pre{padding: 0;}#sk-container-id-1 div.sk-toggleable {background-color: white;}#sk-container-id-1 label.sk-toggleable__label {cursor: pointer;display: block;width: 100%;margin-bottom: 0;padding: 0.3em;box-sizing: border-box;text-align: center;}#sk-container-id-1 label.sk-toggleable__label-arrow:before {content: \"▸\";float: left;margin-right: 0.25em;color: #696969;}#sk-container-id-1 label.sk-toggleable__label-arrow:hover:before {color: black;}#sk-container-id-1 div.sk-estimator:hover label.sk-toggleable__label-arrow:before {color: black;}#sk-container-id-1 div.sk-toggleable__content {max-height: 0;max-width: 0;overflow: hidden;text-align: left;background-color: #f0f8ff;}#sk-container-id-1 div.sk-toggleable__content pre {margin: 0.2em;color: black;border-radius: 0.25em;background-color: #f0f8ff;}#sk-container-id-1 input.sk-toggleable__control:checked~div.sk-toggleable__content {max-height: 200px;max-width: 100%;overflow: auto;}#sk-container-id-1 input.sk-toggleable__control:checked~label.sk-toggleable__label-arrow:before {content: \"▾\";}#sk-container-id-1 div.sk-estimator input.sk-toggleable__control:checked~label.sk-toggleable__label {background-color: #d4ebff;}#sk-container-id-1 div.sk-label input.sk-toggleable__control:checked~label.sk-toggleable__label {background-color: #d4ebff;}#sk-container-id-1 input.sk-hidden--visually {border: 0;clip: rect(1px 1px 1px 1px);clip: rect(1px, 1px, 1px, 1px);height: 1px;margin: -1px;overflow: hidden;padding: 0;position: absolute;width: 1px;}#sk-container-id-1 div.sk-estimator {font-family: monospace;background-color: #f0f8ff;border: 1px dotted black;border-radius: 0.25em;box-sizing: border-box;margin-bottom: 0.5em;}#sk-container-id-1 div.sk-estimator:hover {background-color: #d4ebff;}#sk-container-id-1 div.sk-parallel-item::after {content: \"\";width: 100%;border-bottom: 1px solid gray;flex-grow: 1;}#sk-container-id-1 div.sk-label:hover label.sk-toggleable__label {background-color: #d4ebff;}#sk-container-id-1 div.sk-serial::before {content: \"\";position: absolute;border-left: 1px solid gray;box-sizing: border-box;top: 0;bottom: 0;left: 50%;z-index: 0;}#sk-container-id-1 div.sk-serial {display: flex;flex-direction: column;align-items: center;background-color: white;padding-right: 0.2em;padding-left: 0.2em;position: relative;}#sk-container-id-1 div.sk-item {position: relative;z-index: 1;}#sk-container-id-1 div.sk-parallel {display: flex;align-items: stretch;justify-content: center;background-color: white;position: relative;}#sk-container-id-1 div.sk-item::before, #sk-container-id-1 div.sk-parallel-item::before {content: \"\";position: absolute;border-left: 1px solid gray;box-sizing: border-box;top: 0;bottom: 0;left: 50%;z-index: -1;}#sk-container-id-1 div.sk-parallel-item {display: flex;flex-direction: column;z-index: 1;position: relative;background-color: white;}#sk-container-id-1 div.sk-parallel-item:first-child::after {align-self: flex-end;width: 50%;}#sk-container-id-1 div.sk-parallel-item:last-child::after {align-self: flex-start;width: 50%;}#sk-container-id-1 div.sk-parallel-item:only-child::after {width: 0;}#sk-container-id-1 div.sk-dashed-wrapped {border: 1px dashed gray;margin: 0 0.4em 0.5em 0.4em;box-sizing: border-box;padding-bottom: 0.4em;background-color: white;}#sk-container-id-1 div.sk-label label {font-family: monospace;font-weight: bold;display: inline-block;line-height: 1.2em;}#sk-container-id-1 div.sk-label-container {text-align: center;}#sk-container-id-1 div.sk-container {/* jupyter's `normalize.less` sets `[hidden] { display: none; }` but bootstrap.min.css set `[hidden] { display: none !important; }` so we also need the `!important` here to be able to override the default hidden behavior on the sphinx rendered scikit-learn.org. See: https://github.com/scikit-learn/scikit-learn/issues/21755 */display: inline-block !important;position: relative;}#sk-container-id-1 div.sk-text-repr-fallback {display: none;}</style><div id=\"sk-container-id-1\" class=\"sk-top-container\"><div class=\"sk-text-repr-fallback\"><pre>LGBMClassifier(random_state=10)</pre><b>In a Jupyter environment, please rerun this cell to show the HTML representation or trust the notebook. <br />On GitHub, the HTML representation is unable to render, please try loading this page with nbviewer.org.</b></div><div class=\"sk-container\" hidden><div class=\"sk-item\"><div class=\"sk-estimator sk-toggleable\"><input class=\"sk-toggleable__control sk-hidden--visually\" id=\"sk-estimator-id-1\" type=\"checkbox\" checked><label for=\"sk-estimator-id-1\" class=\"sk-toggleable__label sk-toggleable__label-arrow\">LGBMClassifier</label><div class=\"sk-toggleable__content\"><pre>LGBMClassifier(random_state=10)</pre></div></div></div></div></div>"
      ],
      "text/plain": [
       "LGBMClassifier(random_state=10)"
      ]
     },
     "execution_count": 12,
     "metadata": {},
     "output_type": "execute_result"
    }
   ],
   "source": [
    "clf = LGBMClassifier(random_state=10)\n",
    "clf.fit(X_train, y_train)"
   ]
  },
  {
   "cell_type": "markdown",
   "metadata": {},
   "source": [
    "### Evaluate model"
   ]
  },
  {
   "cell_type": "markdown",
   "metadata": {},
   "source": [
    "##### Validation AUC"
   ]
  },
  {
   "cell_type": "code",
   "execution_count": 13,
   "metadata": {},
   "outputs": [
    {
     "name": "stdout",
     "output_type": "stream",
     "text": [
      "=====================================\n",
      "Validation AUC:0.9135338345864662\n",
      "=====================================\n"
     ]
    }
   ],
   "source": [
    "valid_prediction = clf.predict_proba(X_valid)[:, 1]\n",
    "fpr, tpr, thresholds = roc_curve(y_valid, valid_prediction)\n",
    "roc_auc = auc(fpr, tpr) # compute area under the curve\n",
    "print(\"=====================================\")\n",
    "print(\"Validation AUC:{}\".format(roc_auc))\n",
    "print(\"=====================================\")"
   ]
  },
  {
   "cell_type": "markdown",
   "metadata": {},
   "source": [
    "##### Perform model evaluation "
   ]
  },
  {
   "cell_type": "code",
   "execution_count": 14,
   "metadata": {},
   "outputs": [
    {
     "name": "stdout",
     "output_type": "stream",
     "text": [
      "              precision    recall  f1-score   support\n",
      "\n",
      "           0       0.75      0.95      0.84        19\n",
      "           1       0.89      0.57      0.70        14\n",
      "\n",
      "    accuracy                           0.79        33\n",
      "   macro avg       0.82      0.76      0.77        33\n",
      "weighted avg       0.81      0.79      0.78        33\n",
      "\n"
     ]
    }
   ],
   "source": [
    "print(classification_report(y_valid,clf.predict(X_valid)))"
   ]
  },
  {
   "cell_type": "markdown",
   "metadata": {},
   "source": [
    "### Save model"
   ]
  },
  {
   "cell_type": "code",
   "execution_count": 15,
   "metadata": {},
   "outputs": [
    {
     "data": {
      "text/plain": [
       "['./model/categorical_features.joblib']"
      ]
     },
     "execution_count": 15,
     "metadata": {},
     "output_type": "execute_result"
    }
   ],
   "source": [
    "joblib.dump(le, './model/label_encoder.joblib')\n",
    "joblib.dump(clf, './model/lgb_model.joblib')\n",
    "joblib.dump(features, './model/features.joblib')\n",
    "joblib.dump(categorical_features, './model/categorical_features.joblib')"
   ]
  },
  {
   "cell_type": "markdown",
   "metadata": {},
   "source": [
    "# Local API"
   ]
  },
  {
   "cell_type": "markdown",
   "metadata": {},
   "source": [
    "Open terminal, go to the project folder and activate the conda environment. Run the following commands to test the local deploment server:\n",
    "\n",
    "1. `conda activate conda-env-name`\n",
    "\n",
    "2. `cd app/`\n",
    "\n",
    "3. `python main.py`\n",
    "\n",
    "Expected response:\n",
    "\n",
    "~~~\n",
    "INFO:     Will watch for changes in these directories: ['/root/project-folder/app']\n",
    "INFO:     Uvicorn running on http://0.0.0.0:8000 (Press CTRL+C to quit)\n",
    "INFO:     Started reloader process [1294] using StatReload\n",
    "INFO:     Started server process [1297]\n",
    "INFO:     Waiting for application startup.\n",
    "INFO:     Application startup complete.\n",
    "INFO:     127.0.0.1:64944 - \"GET / HTTP/1.1\" 200 OK\n",
    "~~~"
   ]
  },
  {
   "cell_type": "code",
   "execution_count": 2,
   "metadata": {},
   "outputs": [
    {
     "name": "stdout",
     "output_type": "stream",
     "text": [
      "{\"prediction\":[\"Placed\"]}\n"
     ]
    }
   ],
   "source": [
    "import requests\n",
    "data = {\n",
    "  \"sl_no\": 112,\n",
    "  \"ssc_p\": 84.0,\n",
    "  \"hsc_p\": 90.9,\n",
    "  \"degree_p\": 64.5,\n",
    "  \"etest_p\": 86.04,\n",
    "  \"mba_p\": 59.42,\n",
    "  \"gender\": \"M\",\n",
    "  \"ssc_b\": \"Others\",\n",
    "  \"hsc_b\": \"Others\",\n",
    "  \"hsc_s\": \"Science\",\n",
    "  \"degree_t\": \"Sci&Tech\",\n",
    "  \"workex\": \"No\",\n",
    "  \"specialisation\": \"Mkt&Fin\"\n",
    "}\n",
    "response = requests.post(\"http://0.0.0.0:8000/predict\", json=data)\n",
    "print(response.text)"
   ]
  },
  {
   "cell_type": "code",
   "execution_count": 5,
   "metadata": {},
   "outputs": [
    {
     "name": "stdout",
     "output_type": "stream",
     "text": [
      "{\"prediction\":[\"Not Placed\"]}\n"
     ]
    }
   ],
   "source": [
    "data = {\n",
    "  \"sl_no\": 113,\n",
    "  \"ssc_p\": 52.0,\n",
    "  \"hsc_p\": 57.0,\n",
    "  \"degree_p\": 50.8,\n",
    "  \"etest_p\": 67.0,\n",
    "  \"mba_p\": 62.79,\n",
    "  \"gender\": \"M\",\n",
    "  \"ssc_b\": \"Central\",\n",
    "  \"hsc_b\": \"Central\",\n",
    "  \"hsc_s\": \"Commerce\",\n",
    "  \"degree_t\": \"Comm&Mgmt\",\n",
    "  \"workex\": \"No\",\n",
    "  \"specialisation\": \"Mkt&HR\"\n",
    "}\n",
    "response = requests.post(\"http://0.0.0.0:8000/predict\", json=data)\n",
    "print(response.text)"
   ]
  },
  {
   "cell_type": "markdown",
   "metadata": {},
   "source": [
    "# Containerize model server & ML API with Docker"
   ]
  },
  {
   "cell_type": "code",
   "execution_count": 8,
   "metadata": {},
   "outputs": [
    {
     "name": "stdout",
     "output_type": "stream",
     "text": [
      "Deploy ML model on Docker-Kubernetes.ipynb\n",
      "Dockerfile\n",
      "\u001b[34mapp\u001b[m\u001b[m\n",
      "\u001b[34mdata\u001b[m\u001b[m\n",
      "\u001b[34mmodel\u001b[m\u001b[m\n",
      "requirements.txt\n"
     ]
    }
   ],
   "source": [
    "!ls"
   ]
  },
  {
   "cell_type": "markdown",
   "metadata": {},
   "source": [
    "##### Build image"
   ]
  },
  {
   "cell_type": "code",
   "execution_count": 9,
   "metadata": {},
   "outputs": [
    {
     "name": "stdout",
     "output_type": "stream",
     "text": [
      "\u001b[1A\u001b[1B\u001b[0G\u001b[?25l[+] Building 0.0s (0/1)                                    docker:desktop-linux\n",
      "\u001b[?25h\u001b[1A\u001b[0G\u001b[?25l[+] Building 0.2s (1/2)                                    docker:desktop-linux\n",
      "\u001b[34m => [internal] load build definition from Dockerfile                       0.0s\n",
      "\u001b[0m\u001b[34m => => transferring dockerfile: 401B                                       0.0s\n",
      "\u001b[0m => [internal] load metadata for docker.io/tiangolo/uvicorn-gunicorn-fast  0.2s\n",
      "\u001b[?25h\u001b[1A\u001b[1A\u001b[1A\u001b[1A\u001b[0G\u001b[?25l[+] Building 0.3s (1/2)                                    docker:desktop-linux\n",
      "\u001b[34m => [internal] load build definition from Dockerfile                       0.0s\n",
      "\u001b[0m\u001b[34m => => transferring dockerfile: 401B                                       0.0s\n",
      "\u001b[0m => [internal] load metadata for docker.io/tiangolo/uvicorn-gunicorn-fast  0.3s\n",
      "\u001b[?25h\u001b[1A\u001b[1A\u001b[1A\u001b[1A\u001b[0G\u001b[?25l[+] Building 0.5s (1/2)                                    docker:desktop-linux\n",
      "\u001b[34m => [internal] load build definition from Dockerfile                       0.0s\n",
      "\u001b[0m\u001b[34m => => transferring dockerfile: 401B                                       0.0s\n",
      "\u001b[0m => [internal] load metadata for docker.io/tiangolo/uvicorn-gunicorn-fast  0.5s\n",
      "\u001b[?25h\u001b[1A\u001b[1A\u001b[1A\u001b[1A\u001b[0G\u001b[?25l[+] Building 0.6s (1/2)                                    docker:desktop-linux\n",
      "\u001b[34m => [internal] load build definition from Dockerfile                       0.0s\n",
      "\u001b[0m\u001b[34m => => transferring dockerfile: 401B                                       0.0s\n",
      "\u001b[0m => [internal] load metadata for docker.io/tiangolo/uvicorn-gunicorn-fast  0.6s\n",
      "\u001b[?25h\u001b[1A\u001b[1A\u001b[1A\u001b[1A\u001b[0G\u001b[?25l[+] Building 0.8s (1/2)                                    docker:desktop-linux\n",
      "\u001b[34m => [internal] load build definition from Dockerfile                       0.0s\n",
      "\u001b[0m\u001b[34m => => transferring dockerfile: 401B                                       0.0s\n",
      "\u001b[0m => [internal] load metadata for docker.io/tiangolo/uvicorn-gunicorn-fast  0.8s\n",
      "\u001b[?25h\u001b[1A\u001b[1A\u001b[1A\u001b[1A\u001b[0G\u001b[?25l[+] Building 0.8s (2/3)                                    docker:desktop-linux\n",
      "\u001b[34m => [internal] load build definition from Dockerfile                       0.0s\n",
      "\u001b[0m\u001b[34m => => transferring dockerfile: 401B                                       0.0s\n",
      "\u001b[0m\u001b[34m => [internal] load metadata for docker.io/tiangolo/uvicorn-gunicorn-fast  0.8s\n",
      "\u001b[0m\u001b[?25h\u001b[1A\u001b[1A\u001b[1A\u001b[1A\u001b[0G\u001b[?25l[+] Building 1.1s (9/10)                                   docker:desktop-linux\n",
      "\u001b[34m => [internal] load build definition from Dockerfile                       0.0s\n",
      "\u001b[0m\u001b[34m => => transferring dockerfile: 401B                                       0.0s\n",
      "\u001b[0m\u001b[34m => [internal] load metadata for docker.io/tiangolo/uvicorn-gunicorn-fast  0.8s\n",
      "\u001b[0m\u001b[34m => [internal] load .dockerignore                                          0.0s\n",
      "\u001b[0m\u001b[34m => => transferring context: 2B                                            0.0s\n",
      "\u001b[0m\u001b[34m => [1/5] FROM docker.io/tiangolo/uvicorn-gunicorn-fastapi:python3.7@sha2  0.0s\n",
      "\u001b[0m\u001b[34m => => resolve docker.io/tiangolo/uvicorn-gunicorn-fastapi:python3.7@sha2  0.0s\n",
      "\u001b[0m\u001b[34m => [internal] load build context                                          0.0s\n",
      "\u001b[0m\u001b[34m => => transferring context: 731B                                          0.0s\n",
      "\u001b[0m\u001b[34m => CACHED [2/5] COPY /app/requirements.txt /app/                          0.0s\n",
      "\u001b[0m\u001b[34m => CACHED [3/5] RUN pip install -r /app/requirements.txt                  0.0s\n",
      "\u001b[0m\u001b[34m => CACHED [4/5] COPY ./model /model/                                      0.0s\n",
      "\u001b[0m\u001b[34m => CACHED [5/5] COPY ./app /app                                           0.0s\n",
      "\u001b[0m => exporting to image                                                     0.2s\n",
      "\u001b[34m => => exporting layers                                                    0.0s\n",
      "\u001b[0m\u001b[34m => => exporting manifest sha256:a7c7de83fbdf148d76b159a01eba73d0ee6e6020  0.0s\n",
      "\u001b[0m\u001b[34m => => exporting config sha256:b07f8da2db557493ee65d134f3fba4578e8882e1f6  0.0s\n",
      "\u001b[0m\u001b[34m => => exporting attestation manifest sha256:f873b5ecf708271278c656aac595  0.0s\n",
      "\u001b[0m\u001b[34m => => exporting manifest list sha256:72a71b9567c2a427e3fe07e0c9d7399c501  0.0s\n",
      "\u001b[0m\u001b[34m => => naming to docker.io/library/fastapi-classifier:v1                   0.0s\n",
      "\u001b[0m => => unpacking to docker.io/library/fastapi-classifier:v1                0.2s\n",
      "\u001b[?25h\u001b[1A\u001b[1A\u001b[1A\u001b[1A\u001b[1A\u001b[1A\u001b[1A\u001b[1A\u001b[1A\u001b[1A\u001b[1A\u001b[1A\u001b[1A\u001b[1A\u001b[1A\u001b[1A\u001b[1A\u001b[1A\u001b[1A\u001b[1A\u001b[1A\u001b[1A\u001b[0G\u001b[?25l[+] Building 1.2s (9/10)                                   docker:desktop-linux\n",
      "\u001b[34m => [internal] load build definition from Dockerfile                       0.0s\n",
      "\u001b[0m\u001b[34m => => transferring dockerfile: 401B                                       0.0s\n",
      "\u001b[0m\u001b[34m => [internal] load metadata for docker.io/tiangolo/uvicorn-gunicorn-fast  0.8s\n",
      "\u001b[0m\u001b[34m => [internal] load .dockerignore                                          0.0s\n",
      "\u001b[0m\u001b[34m => => transferring context: 2B                                            0.0s\n",
      "\u001b[0m\u001b[34m => [1/5] FROM docker.io/tiangolo/uvicorn-gunicorn-fastapi:python3.7@sha2  0.0s\n",
      "\u001b[0m\u001b[34m => => resolve docker.io/tiangolo/uvicorn-gunicorn-fastapi:python3.7@sha2  0.0s\n",
      "\u001b[0m\u001b[34m => [internal] load build context                                          0.0s\n",
      "\u001b[0m\u001b[34m => => transferring context: 731B                                          0.0s\n",
      "\u001b[0m\u001b[34m => CACHED [2/5] COPY /app/requirements.txt /app/                          0.0s\n",
      "\u001b[0m\u001b[34m => CACHED [3/5] RUN pip install -r /app/requirements.txt                  0.0s\n",
      "\u001b[0m\u001b[34m => CACHED [4/5] COPY ./model /model/                                      0.0s\n",
      "\u001b[0m\u001b[34m => CACHED [5/5] COPY ./app /app                                           0.0s\n",
      "\u001b[0m => exporting to image                                                     0.3s\n",
      "\u001b[34m => => exporting layers                                                    0.0s\n",
      "\u001b[0m\u001b[34m => => exporting manifest sha256:a7c7de83fbdf148d76b159a01eba73d0ee6e6020  0.0s\n",
      "\u001b[0m\u001b[34m => => exporting config sha256:b07f8da2db557493ee65d134f3fba4578e8882e1f6  0.0s\n",
      "\u001b[0m\u001b[34m => => exporting attestation manifest sha256:f873b5ecf708271278c656aac595  0.0s\n",
      "\u001b[0m\u001b[34m => => exporting manifest list sha256:72a71b9567c2a427e3fe07e0c9d7399c501  0.0s\n",
      "\u001b[0m\u001b[34m => => naming to docker.io/library/fastapi-classifier:v1                   0.0s\n",
      "\u001b[0m => => unpacking to docker.io/library/fastapi-classifier:v1                0.3s\n",
      "\u001b[?25h\u001b[1A\u001b[1A\u001b[1A\u001b[1A\u001b[1A\u001b[1A\u001b[1A\u001b[1A\u001b[1A\u001b[1A\u001b[1A\u001b[1A\u001b[1A\u001b[1A\u001b[1A\u001b[1A\u001b[1A\u001b[1A\u001b[1A\u001b[1A\u001b[1A\u001b[1A\u001b[0G\u001b[?25l[+] Building 1.4s (9/10)                                   docker:desktop-linux\n",
      "\u001b[34m => [internal] load build definition from Dockerfile                       0.0s\n",
      "\u001b[0m\u001b[34m => => transferring dockerfile: 401B                                       0.0s\n",
      "\u001b[0m\u001b[34m => [internal] load metadata for docker.io/tiangolo/uvicorn-gunicorn-fast  0.8s\n",
      "\u001b[0m\u001b[34m => [internal] load .dockerignore                                          0.0s\n",
      "\u001b[0m\u001b[34m => => transferring context: 2B                                            0.0s\n",
      "\u001b[0m\u001b[34m => [1/5] FROM docker.io/tiangolo/uvicorn-gunicorn-fastapi:python3.7@sha2  0.0s\n",
      "\u001b[0m\u001b[34m => => resolve docker.io/tiangolo/uvicorn-gunicorn-fastapi:python3.7@sha2  0.0s\n",
      "\u001b[0m\u001b[34m => [internal] load build context                                          0.0s\n",
      "\u001b[0m\u001b[34m => => transferring context: 731B                                          0.0s\n",
      "\u001b[0m\u001b[34m => CACHED [2/5] COPY /app/requirements.txt /app/                          0.0s\n",
      "\u001b[0m\u001b[34m => CACHED [3/5] RUN pip install -r /app/requirements.txt                  0.0s\n",
      "\u001b[0m\u001b[34m => CACHED [4/5] COPY ./model /model/                                      0.0s\n",
      "\u001b[0m\u001b[34m => CACHED [5/5] COPY ./app /app                                           0.0s\n",
      "\u001b[0m => exporting to image                                                     0.5s\n",
      "\u001b[34m => => exporting layers                                                    0.0s\n",
      "\u001b[0m\u001b[34m => => exporting manifest sha256:a7c7de83fbdf148d76b159a01eba73d0ee6e6020  0.0s\n",
      "\u001b[0m\u001b[34m => => exporting config sha256:b07f8da2db557493ee65d134f3fba4578e8882e1f6  0.0s\n",
      "\u001b[0m\u001b[34m => => exporting attestation manifest sha256:f873b5ecf708271278c656aac595  0.0s\n",
      "\u001b[0m\u001b[34m => => exporting manifest list sha256:72a71b9567c2a427e3fe07e0c9d7399c501  0.0s\n",
      "\u001b[0m\u001b[34m => => naming to docker.io/library/fastapi-classifier:v1                   0.0s\n",
      "\u001b[0m => => unpacking to docker.io/library/fastapi-classifier:v1                0.5s\n",
      "\u001b[?25h\u001b[1A\u001b[1A\u001b[1A\u001b[1A\u001b[1A\u001b[1A\u001b[1A\u001b[1A\u001b[1A\u001b[1A\u001b[1A\u001b[1A\u001b[1A\u001b[1A\u001b[1A\u001b[1A\u001b[1A\u001b[1A\u001b[1A\u001b[1A\u001b[1A\u001b[1A\u001b[0G\u001b[?25l[+] Building 1.5s (9/10)                                   docker:desktop-linux\n",
      "\u001b[34m => [internal] load build definition from Dockerfile                       0.0s\n",
      "\u001b[0m\u001b[34m => => transferring dockerfile: 401B                                       0.0s\n",
      "\u001b[0m\u001b[34m => [internal] load metadata for docker.io/tiangolo/uvicorn-gunicorn-fast  0.8s\n",
      "\u001b[0m\u001b[34m => [internal] load .dockerignore                                          0.0s\n",
      "\u001b[0m\u001b[34m => => transferring context: 2B                                            0.0s\n",
      "\u001b[0m\u001b[34m => [1/5] FROM docker.io/tiangolo/uvicorn-gunicorn-fastapi:python3.7@sha2  0.0s\n",
      "\u001b[0m\u001b[34m => => resolve docker.io/tiangolo/uvicorn-gunicorn-fastapi:python3.7@sha2  0.0s\n",
      "\u001b[0m\u001b[34m => [internal] load build context                                          0.0s\n",
      "\u001b[0m\u001b[34m => => transferring context: 731B                                          0.0s\n",
      "\u001b[0m\u001b[34m => CACHED [2/5] COPY /app/requirements.txt /app/                          0.0s\n",
      "\u001b[0m\u001b[34m => CACHED [3/5] RUN pip install -r /app/requirements.txt                  0.0s\n",
      "\u001b[0m\u001b[34m => CACHED [4/5] COPY ./model /model/                                      0.0s\n",
      "\u001b[0m\u001b[34m => CACHED [5/5] COPY ./app /app                                           0.0s\n",
      "\u001b[0m => exporting to image                                                     0.6s\n",
      "\u001b[34m => => exporting layers                                                    0.0s\n",
      "\u001b[0m\u001b[34m => => exporting manifest sha256:a7c7de83fbdf148d76b159a01eba73d0ee6e6020  0.0s\n",
      "\u001b[0m\u001b[34m => => exporting config sha256:b07f8da2db557493ee65d134f3fba4578e8882e1f6  0.0s\n",
      "\u001b[0m\u001b[34m => => exporting attestation manifest sha256:f873b5ecf708271278c656aac595  0.0s\n",
      "\u001b[0m\u001b[34m => => exporting manifest list sha256:72a71b9567c2a427e3fe07e0c9d7399c501  0.0s\n",
      "\u001b[0m\u001b[34m => => naming to docker.io/library/fastapi-classifier:v1                   0.0s\n",
      "\u001b[0m => => unpacking to docker.io/library/fastapi-classifier:v1                0.6s\n",
      "\u001b[?25h\u001b[1A\u001b[1A\u001b[1A\u001b[1A\u001b[1A\u001b[1A\u001b[1A\u001b[1A\u001b[1A\u001b[1A\u001b[1A\u001b[1A\u001b[1A\u001b[1A\u001b[1A\u001b[1A\u001b[1A\u001b[1A\u001b[1A\u001b[1A\u001b[1A\u001b[1A\u001b[0G\u001b[?25l[+] Building 1.7s (9/10)                                   docker:desktop-linux\n",
      "\u001b[34m => [internal] load build definition from Dockerfile                       0.0s\n",
      "\u001b[0m\u001b[34m => => transferring dockerfile: 401B                                       0.0s\n",
      "\u001b[0m\u001b[34m => [internal] load metadata for docker.io/tiangolo/uvicorn-gunicorn-fast  0.8s\n",
      "\u001b[0m\u001b[34m => [internal] load .dockerignore                                          0.0s\n",
      "\u001b[0m\u001b[34m => => transferring context: 2B                                            0.0s\n",
      "\u001b[0m\u001b[34m => [1/5] FROM docker.io/tiangolo/uvicorn-gunicorn-fastapi:python3.7@sha2  0.0s\n",
      "\u001b[0m\u001b[34m => => resolve docker.io/tiangolo/uvicorn-gunicorn-fastapi:python3.7@sha2  0.0s\n",
      "\u001b[0m\u001b[34m => [internal] load build context                                          0.0s\n",
      "\u001b[0m\u001b[34m => => transferring context: 731B                                          0.0s\n",
      "\u001b[0m\u001b[34m => CACHED [2/5] COPY /app/requirements.txt /app/                          0.0s\n",
      "\u001b[0m\u001b[34m => CACHED [3/5] RUN pip install -r /app/requirements.txt                  0.0s\n",
      "\u001b[0m\u001b[34m => CACHED [4/5] COPY ./model /model/                                      0.0s\n",
      "\u001b[0m\u001b[34m => CACHED [5/5] COPY ./app /app                                           0.0s\n",
      "\u001b[0m => exporting to image                                                     0.8s\n",
      "\u001b[34m => => exporting layers                                                    0.0s\n",
      "\u001b[0m\u001b[34m => => exporting manifest sha256:a7c7de83fbdf148d76b159a01eba73d0ee6e6020  0.0s\n",
      "\u001b[0m\u001b[34m => => exporting config sha256:b07f8da2db557493ee65d134f3fba4578e8882e1f6  0.0s\n",
      "\u001b[0m\u001b[34m => => exporting attestation manifest sha256:f873b5ecf708271278c656aac595  0.0s\n",
      "\u001b[0m\u001b[34m => => exporting manifest list sha256:72a71b9567c2a427e3fe07e0c9d7399c501  0.0s\n",
      "\u001b[0m\u001b[34m => => naming to docker.io/library/fastapi-classifier:v1                   0.0s\n",
      "\u001b[0m => => unpacking to docker.io/library/fastapi-classifier:v1                0.7s\n",
      "\u001b[?25h\u001b[1A\u001b[1A\u001b[1A\u001b[1A\u001b[1A\u001b[1A\u001b[1A\u001b[1A\u001b[1A\u001b[1A\u001b[1A\u001b[1A\u001b[1A\u001b[1A\u001b[1A\u001b[1A\u001b[1A\u001b[1A\u001b[1A\u001b[1A\u001b[1A\u001b[1A\u001b[0G\u001b[?25l[+] Building 1.8s (9/10)                                   docker:desktop-linux\n",
      "\u001b[34m => [internal] load build definition from Dockerfile                       0.0s\n",
      "\u001b[0m\u001b[34m => => transferring dockerfile: 401B                                       0.0s\n",
      "\u001b[0m\u001b[34m => [internal] load metadata for docker.io/tiangolo/uvicorn-gunicorn-fast  0.8s\n",
      "\u001b[0m\u001b[34m => [internal] load .dockerignore                                          0.0s\n",
      "\u001b[0m\u001b[34m => => transferring context: 2B                                            0.0s\n",
      "\u001b[0m\u001b[34m => [1/5] FROM docker.io/tiangolo/uvicorn-gunicorn-fastapi:python3.7@sha2  0.0s\n",
      "\u001b[0m\u001b[34m => => resolve docker.io/tiangolo/uvicorn-gunicorn-fastapi:python3.7@sha2  0.0s\n",
      "\u001b[0m\u001b[34m => [internal] load build context                                          0.0s\n",
      "\u001b[0m\u001b[34m => => transferring context: 731B                                          0.0s\n",
      "\u001b[0m\u001b[34m => CACHED [2/5] COPY /app/requirements.txt /app/                          0.0s\n",
      "\u001b[0m\u001b[34m => CACHED [3/5] RUN pip install -r /app/requirements.txt                  0.0s\n",
      "\u001b[0m\u001b[34m => CACHED [4/5] COPY ./model /model/                                      0.0s\n",
      "\u001b[0m\u001b[34m => CACHED [5/5] COPY ./app /app                                           0.0s\n",
      "\u001b[0m => exporting to image                                                     0.9s\n",
      "\u001b[34m => => exporting layers                                                    0.0s\n",
      "\u001b[0m\u001b[34m => => exporting manifest sha256:a7c7de83fbdf148d76b159a01eba73d0ee6e6020  0.0s\n",
      "\u001b[0m\u001b[34m => => exporting config sha256:b07f8da2db557493ee65d134f3fba4578e8882e1f6  0.0s\n",
      "\u001b[0m\u001b[34m => => exporting attestation manifest sha256:f873b5ecf708271278c656aac595  0.0s\n",
      "\u001b[0m\u001b[34m => => exporting manifest list sha256:72a71b9567c2a427e3fe07e0c9d7399c501  0.0s\n",
      "\u001b[0m\u001b[34m => => naming to docker.io/library/fastapi-classifier:v1                   0.0s\n",
      "\u001b[0m => => unpacking to docker.io/library/fastapi-classifier:v1                0.9s\n",
      "\u001b[?25h\u001b[1A\u001b[1A\u001b[1A\u001b[1A\u001b[1A\u001b[1A\u001b[1A\u001b[1A\u001b[1A\u001b[1A\u001b[1A\u001b[1A\u001b[1A\u001b[1A\u001b[1A\u001b[1A\u001b[1A\u001b[1A\u001b[1A\u001b[1A\u001b[1A\u001b[1A\u001b[0G\u001b[?25l[+] Building 2.0s (9/10)                                   docker:desktop-linux\n",
      "\u001b[34m => [internal] load build definition from Dockerfile                       0.0s\n",
      "\u001b[0m\u001b[34m => => transferring dockerfile: 401B                                       0.0s\n",
      "\u001b[0m\u001b[34m => [internal] load metadata for docker.io/tiangolo/uvicorn-gunicorn-fast  0.8s\n",
      "\u001b[0m\u001b[34m => [internal] load .dockerignore                                          0.0s\n",
      "\u001b[0m\u001b[34m => => transferring context: 2B                                            0.0s\n",
      "\u001b[0m\u001b[34m => [1/5] FROM docker.io/tiangolo/uvicorn-gunicorn-fastapi:python3.7@sha2  0.0s\n",
      "\u001b[0m\u001b[34m => => resolve docker.io/tiangolo/uvicorn-gunicorn-fastapi:python3.7@sha2  0.0s\n",
      "\u001b[0m\u001b[34m => [internal] load build context                                          0.0s\n",
      "\u001b[0m\u001b[34m => => transferring context: 731B                                          0.0s\n",
      "\u001b[0m\u001b[34m => CACHED [2/5] COPY /app/requirements.txt /app/                          0.0s\n",
      "\u001b[0m\u001b[34m => CACHED [3/5] RUN pip install -r /app/requirements.txt                  0.0s\n",
      "\u001b[0m\u001b[34m => CACHED [4/5] COPY ./model /model/                                      0.0s\n",
      "\u001b[0m\u001b[34m => CACHED [5/5] COPY ./app /app                                           0.0s\n",
      "\u001b[0m => exporting to image                                                     1.1s\n",
      "\u001b[34m => => exporting layers                                                    0.0s\n",
      "\u001b[0m\u001b[34m => => exporting manifest sha256:a7c7de83fbdf148d76b159a01eba73d0ee6e6020  0.0s\n",
      "\u001b[0m\u001b[34m => => exporting config sha256:b07f8da2db557493ee65d134f3fba4578e8882e1f6  0.0s\n",
      "\u001b[0m\u001b[34m => => exporting attestation manifest sha256:f873b5ecf708271278c656aac595  0.0s\n",
      "\u001b[0m\u001b[34m => => exporting manifest list sha256:72a71b9567c2a427e3fe07e0c9d7399c501  0.0s\n",
      "\u001b[0m\u001b[34m => => naming to docker.io/library/fastapi-classifier:v1                   0.0s\n",
      "\u001b[0m => => unpacking to docker.io/library/fastapi-classifier:v1                1.1s\n",
      "\u001b[?25h\u001b[1A\u001b[1A\u001b[1A\u001b[1A\u001b[1A\u001b[1A\u001b[1A\u001b[1A\u001b[1A\u001b[1A\u001b[1A\u001b[1A\u001b[1A\u001b[1A\u001b[1A\u001b[1A\u001b[1A\u001b[1A\u001b[1A\u001b[1A\u001b[1A\u001b[1A\u001b[0G\u001b[?25l[+] Building 2.1s (9/10)                                   docker:desktop-linux\n",
      "\u001b[34m => [internal] load build definition from Dockerfile                       0.0s\n",
      "\u001b[0m\u001b[34m => => transferring dockerfile: 401B                                       0.0s\n",
      "\u001b[0m\u001b[34m => [internal] load metadata for docker.io/tiangolo/uvicorn-gunicorn-fast  0.8s\n",
      "\u001b[0m\u001b[34m => [internal] load .dockerignore                                          0.0s\n",
      "\u001b[0m\u001b[34m => => transferring context: 2B                                            0.0s\n",
      "\u001b[0m\u001b[34m => [1/5] FROM docker.io/tiangolo/uvicorn-gunicorn-fastapi:python3.7@sha2  0.0s\n",
      "\u001b[0m\u001b[34m => => resolve docker.io/tiangolo/uvicorn-gunicorn-fastapi:python3.7@sha2  0.0s\n",
      "\u001b[0m\u001b[34m => [internal] load build context                                          0.0s\n",
      "\u001b[0m\u001b[34m => => transferring context: 731B                                          0.0s\n",
      "\u001b[0m\u001b[34m => CACHED [2/5] COPY /app/requirements.txt /app/                          0.0s\n",
      "\u001b[0m\u001b[34m => CACHED [3/5] RUN pip install -r /app/requirements.txt                  0.0s\n",
      "\u001b[0m\u001b[34m => CACHED [4/5] COPY ./model /model/                                      0.0s\n",
      "\u001b[0m\u001b[34m => CACHED [5/5] COPY ./app /app                                           0.0s\n",
      "\u001b[0m => exporting to image                                                     1.2s\n",
      "\u001b[34m => => exporting layers                                                    0.0s\n",
      "\u001b[0m\u001b[34m => => exporting manifest sha256:a7c7de83fbdf148d76b159a01eba73d0ee6e6020  0.0s\n",
      "\u001b[0m\u001b[34m => => exporting config sha256:b07f8da2db557493ee65d134f3fba4578e8882e1f6  0.0s\n",
      "\u001b[0m\u001b[34m => => exporting attestation manifest sha256:f873b5ecf708271278c656aac595  0.0s\n",
      "\u001b[0m\u001b[34m => => exporting manifest list sha256:72a71b9567c2a427e3fe07e0c9d7399c501  0.0s\n",
      "\u001b[0m\u001b[34m => => naming to docker.io/library/fastapi-classifier:v1                   0.0s\n",
      "\u001b[0m => => unpacking to docker.io/library/fastapi-classifier:v1                1.2s\n",
      "\u001b[?25h\u001b[1A\u001b[1A\u001b[1A\u001b[1A\u001b[1A\u001b[1A\u001b[1A\u001b[1A\u001b[1A\u001b[1A\u001b[1A\u001b[1A\u001b[1A\u001b[1A\u001b[1A\u001b[1A\u001b[1A\u001b[1A\u001b[1A\u001b[1A\u001b[1A\u001b[1A\u001b[0G\u001b[?25l[+] Building 2.3s (9/10)                                   docker:desktop-linux\n",
      "\u001b[34m => [internal] load build definition from Dockerfile                       0.0s\n",
      "\u001b[0m\u001b[34m => => transferring dockerfile: 401B                                       0.0s\n",
      "\u001b[0m\u001b[34m => [internal] load metadata for docker.io/tiangolo/uvicorn-gunicorn-fast  0.8s\n",
      "\u001b[0m\u001b[34m => [internal] load .dockerignore                                          0.0s\n",
      "\u001b[0m\u001b[34m => => transferring context: 2B                                            0.0s\n",
      "\u001b[0m\u001b[34m => [1/5] FROM docker.io/tiangolo/uvicorn-gunicorn-fastapi:python3.7@sha2  0.0s\n",
      "\u001b[0m\u001b[34m => => resolve docker.io/tiangolo/uvicorn-gunicorn-fastapi:python3.7@sha2  0.0s\n",
      "\u001b[0m\u001b[34m => [internal] load build context                                          0.0s\n",
      "\u001b[0m\u001b[34m => => transferring context: 731B                                          0.0s\n",
      "\u001b[0m\u001b[34m => CACHED [2/5] COPY /app/requirements.txt /app/                          0.0s\n",
      "\u001b[0m\u001b[34m => CACHED [3/5] RUN pip install -r /app/requirements.txt                  0.0s\n",
      "\u001b[0m\u001b[34m => CACHED [4/5] COPY ./model /model/                                      0.0s\n",
      "\u001b[0m\u001b[34m => CACHED [5/5] COPY ./app /app                                           0.0s\n",
      "\u001b[0m => exporting to image                                                     1.4s\n",
      "\u001b[34m => => exporting layers                                                    0.0s\n",
      "\u001b[0m\u001b[34m => => exporting manifest sha256:a7c7de83fbdf148d76b159a01eba73d0ee6e6020  0.0s\n",
      "\u001b[0m\u001b[34m => => exporting config sha256:b07f8da2db557493ee65d134f3fba4578e8882e1f6  0.0s\n",
      "\u001b[0m\u001b[34m => => exporting attestation manifest sha256:f873b5ecf708271278c656aac595  0.0s\n",
      "\u001b[0m\u001b[34m => => exporting manifest list sha256:72a71b9567c2a427e3fe07e0c9d7399c501  0.0s\n",
      "\u001b[0m\u001b[34m => => naming to docker.io/library/fastapi-classifier:v1                   0.0s\n",
      "\u001b[0m => => unpacking to docker.io/library/fastapi-classifier:v1                1.4s\n",
      "\u001b[?25h\u001b[1A\u001b[1A\u001b[1A\u001b[1A\u001b[1A\u001b[1A\u001b[1A\u001b[1A\u001b[1A\u001b[1A\u001b[1A\u001b[1A\u001b[1A\u001b[1A\u001b[1A\u001b[1A\u001b[1A\u001b[1A\u001b[1A\u001b[1A\u001b[1A\u001b[1A\u001b[0G\u001b[?25l[+] Building 2.4s (9/10)                                   docker:desktop-linux\n",
      "\u001b[34m => [internal] load build definition from Dockerfile                       0.0s\n",
      "\u001b[0m\u001b[34m => => transferring dockerfile: 401B                                       0.0s\n",
      "\u001b[0m\u001b[34m => [internal] load metadata for docker.io/tiangolo/uvicorn-gunicorn-fast  0.8s\n",
      "\u001b[0m\u001b[34m => [internal] load .dockerignore                                          0.0s\n",
      "\u001b[0m\u001b[34m => => transferring context: 2B                                            0.0s\n",
      "\u001b[0m\u001b[34m => [1/5] FROM docker.io/tiangolo/uvicorn-gunicorn-fastapi:python3.7@sha2  0.0s\n",
      "\u001b[0m\u001b[34m => => resolve docker.io/tiangolo/uvicorn-gunicorn-fastapi:python3.7@sha2  0.0s\n",
      "\u001b[0m\u001b[34m => [internal] load build context                                          0.0s\n",
      "\u001b[0m\u001b[34m => => transferring context: 731B                                          0.0s\n",
      "\u001b[0m\u001b[34m => CACHED [2/5] COPY /app/requirements.txt /app/                          0.0s\n",
      "\u001b[0m\u001b[34m => CACHED [3/5] RUN pip install -r /app/requirements.txt                  0.0s\n",
      "\u001b[0m\u001b[34m => CACHED [4/5] COPY ./model /model/                                      0.0s\n",
      "\u001b[0m\u001b[34m => CACHED [5/5] COPY ./app /app                                           0.0s\n",
      "\u001b[0m => exporting to image                                                     1.5s\n",
      "\u001b[34m => => exporting layers                                                    0.0s\n",
      "\u001b[0m\u001b[34m => => exporting manifest sha256:a7c7de83fbdf148d76b159a01eba73d0ee6e6020  0.0s\n",
      "\u001b[0m\u001b[34m => => exporting config sha256:b07f8da2db557493ee65d134f3fba4578e8882e1f6  0.0s\n",
      "\u001b[0m\u001b[34m => => exporting attestation manifest sha256:f873b5ecf708271278c656aac595  0.0s\n",
      "\u001b[0m\u001b[34m => => exporting manifest list sha256:72a71b9567c2a427e3fe07e0c9d7399c501  0.0s\n",
      "\u001b[0m\u001b[34m => => naming to docker.io/library/fastapi-classifier:v1                   0.0s\n",
      "\u001b[0m => => unpacking to docker.io/library/fastapi-classifier:v1                1.5s\n",
      "\u001b[?25h\u001b[1A\u001b[1A\u001b[1A\u001b[1A\u001b[1A\u001b[1A\u001b[1A\u001b[1A\u001b[1A\u001b[1A\u001b[1A\u001b[1A\u001b[1A\u001b[1A\u001b[1A\u001b[1A\u001b[1A\u001b[1A\u001b[1A\u001b[1A\u001b[1A\u001b[1A\u001b[0G\u001b[?25l[+] Building 2.6s (9/10)                                   docker:desktop-linux\n",
      "\u001b[34m => [internal] load build definition from Dockerfile                       0.0s\n",
      "\u001b[0m\u001b[34m => => transferring dockerfile: 401B                                       0.0s\n",
      "\u001b[0m\u001b[34m => [internal] load metadata for docker.io/tiangolo/uvicorn-gunicorn-fast  0.8s\n",
      "\u001b[0m\u001b[34m => [internal] load .dockerignore                                          0.0s\n",
      "\u001b[0m\u001b[34m => => transferring context: 2B                                            0.0s\n",
      "\u001b[0m\u001b[34m => [1/5] FROM docker.io/tiangolo/uvicorn-gunicorn-fastapi:python3.7@sha2  0.0s\n",
      "\u001b[0m\u001b[34m => => resolve docker.io/tiangolo/uvicorn-gunicorn-fastapi:python3.7@sha2  0.0s\n",
      "\u001b[0m\u001b[34m => [internal] load build context                                          0.0s\n",
      "\u001b[0m\u001b[34m => => transferring context: 731B                                          0.0s\n",
      "\u001b[0m\u001b[34m => CACHED [2/5] COPY /app/requirements.txt /app/                          0.0s\n",
      "\u001b[0m\u001b[34m => CACHED [3/5] RUN pip install -r /app/requirements.txt                  0.0s\n",
      "\u001b[0m\u001b[34m => CACHED [4/5] COPY ./model /model/                                      0.0s\n",
      "\u001b[0m\u001b[34m => CACHED [5/5] COPY ./app /app                                           0.0s\n",
      "\u001b[0m => exporting to image                                                     1.7s\n",
      "\u001b[34m => => exporting layers                                                    0.0s\n",
      "\u001b[0m\u001b[34m => => exporting manifest sha256:a7c7de83fbdf148d76b159a01eba73d0ee6e6020  0.0s\n",
      "\u001b[0m\u001b[34m => => exporting config sha256:b07f8da2db557493ee65d134f3fba4578e8882e1f6  0.0s\n",
      "\u001b[0m\u001b[34m => => exporting attestation manifest sha256:f873b5ecf708271278c656aac595  0.0s\n",
      "\u001b[0m\u001b[34m => => exporting manifest list sha256:72a71b9567c2a427e3fe07e0c9d7399c501  0.0s\n",
      "\u001b[0m\u001b[34m => => naming to docker.io/library/fastapi-classifier:v1                   0.0s\n",
      "\u001b[0m => => unpacking to docker.io/library/fastapi-classifier:v1                1.7s\n",
      "\u001b[?25h\u001b[1A\u001b[1A\u001b[1A\u001b[1A\u001b[1A\u001b[1A\u001b[1A\u001b[1A\u001b[1A\u001b[1A\u001b[1A\u001b[1A\u001b[1A\u001b[1A\u001b[1A\u001b[1A\u001b[1A\u001b[1A\u001b[1A\u001b[1A\u001b[1A\u001b[1A\u001b[0G\u001b[?25l[+] Building 2.7s (9/10)                                   docker:desktop-linux\n",
      "\u001b[34m => [internal] load build definition from Dockerfile                       0.0s\n",
      "\u001b[0m\u001b[34m => => transferring dockerfile: 401B                                       0.0s\n",
      "\u001b[0m\u001b[34m => [internal] load metadata for docker.io/tiangolo/uvicorn-gunicorn-fast  0.8s\n",
      "\u001b[0m\u001b[34m => [internal] load .dockerignore                                          0.0s\n",
      "\u001b[0m\u001b[34m => => transferring context: 2B                                            0.0s\n",
      "\u001b[0m\u001b[34m => [1/5] FROM docker.io/tiangolo/uvicorn-gunicorn-fastapi:python3.7@sha2  0.0s\n",
      "\u001b[0m\u001b[34m => => resolve docker.io/tiangolo/uvicorn-gunicorn-fastapi:python3.7@sha2  0.0s\n",
      "\u001b[0m\u001b[34m => [internal] load build context                                          0.0s\n",
      "\u001b[0m\u001b[34m => => transferring context: 731B                                          0.0s\n",
      "\u001b[0m\u001b[34m => CACHED [2/5] COPY /app/requirements.txt /app/                          0.0s\n",
      "\u001b[0m\u001b[34m => CACHED [3/5] RUN pip install -r /app/requirements.txt                  0.0s\n",
      "\u001b[0m\u001b[34m => CACHED [4/5] COPY ./model /model/                                      0.0s\n",
      "\u001b[0m\u001b[34m => CACHED [5/5] COPY ./app /app                                           0.0s\n",
      "\u001b[0m => exporting to image                                                     1.8s\n",
      "\u001b[34m => => exporting layers                                                    0.0s\n",
      "\u001b[0m\u001b[34m => => exporting manifest sha256:a7c7de83fbdf148d76b159a01eba73d0ee6e6020  0.0s\n",
      "\u001b[0m\u001b[34m => => exporting config sha256:b07f8da2db557493ee65d134f3fba4578e8882e1f6  0.0s\n",
      "\u001b[0m\u001b[34m => => exporting attestation manifest sha256:f873b5ecf708271278c656aac595  0.0s\n",
      "\u001b[0m\u001b[34m => => exporting manifest list sha256:72a71b9567c2a427e3fe07e0c9d7399c501  0.0s\n",
      "\u001b[0m\u001b[34m => => naming to docker.io/library/fastapi-classifier:v1                   0.0s\n",
      "\u001b[0m => => unpacking to docker.io/library/fastapi-classifier:v1                1.8s\n",
      "\u001b[?25h\u001b[1A\u001b[1A\u001b[1A\u001b[1A\u001b[1A\u001b[1A\u001b[1A\u001b[1A\u001b[1A\u001b[1A\u001b[1A\u001b[1A\u001b[1A\u001b[1A\u001b[1A\u001b[1A\u001b[1A\u001b[1A\u001b[1A\u001b[1A\u001b[1A\u001b[1A\u001b[0G\u001b[?25l[+] Building 2.9s (9/10)                                   docker:desktop-linux\n",
      "\u001b[34m => [internal] load build definition from Dockerfile                       0.0s\n",
      "\u001b[0m\u001b[34m => => transferring dockerfile: 401B                                       0.0s\n",
      "\u001b[0m\u001b[34m => [internal] load metadata for docker.io/tiangolo/uvicorn-gunicorn-fast  0.8s\n",
      "\u001b[0m\u001b[34m => [internal] load .dockerignore                                          0.0s\n",
      "\u001b[0m\u001b[34m => => transferring context: 2B                                            0.0s\n",
      "\u001b[0m\u001b[34m => [1/5] FROM docker.io/tiangolo/uvicorn-gunicorn-fastapi:python3.7@sha2  0.0s\n",
      "\u001b[0m\u001b[34m => => resolve docker.io/tiangolo/uvicorn-gunicorn-fastapi:python3.7@sha2  0.0s\n",
      "\u001b[0m\u001b[34m => [internal] load build context                                          0.0s\n",
      "\u001b[0m\u001b[34m => => transferring context: 731B                                          0.0s\n",
      "\u001b[0m\u001b[34m => CACHED [2/5] COPY /app/requirements.txt /app/                          0.0s\n",
      "\u001b[0m\u001b[34m => CACHED [3/5] RUN pip install -r /app/requirements.txt                  0.0s\n",
      "\u001b[0m\u001b[34m => CACHED [4/5] COPY ./model /model/                                      0.0s\n",
      "\u001b[0m\u001b[34m => CACHED [5/5] COPY ./app /app                                           0.0s\n",
      "\u001b[0m => exporting to image                                                     2.0s\n",
      "\u001b[34m => => exporting layers                                                    0.0s\n",
      "\u001b[0m\u001b[34m => => exporting manifest sha256:a7c7de83fbdf148d76b159a01eba73d0ee6e6020  0.0s\n",
      "\u001b[0m\u001b[34m => => exporting config sha256:b07f8da2db557493ee65d134f3fba4578e8882e1f6  0.0s\n",
      "\u001b[0m\u001b[34m => => exporting attestation manifest sha256:f873b5ecf708271278c656aac595  0.0s\n",
      "\u001b[0m\u001b[34m => => exporting manifest list sha256:72a71b9567c2a427e3fe07e0c9d7399c501  0.0s\n",
      "\u001b[0m\u001b[34m => => naming to docker.io/library/fastapi-classifier:v1                   0.0s\n",
      "\u001b[0m => => unpacking to docker.io/library/fastapi-classifier:v1                1.9s\n",
      "\u001b[?25h\u001b[1A\u001b[1A\u001b[1A\u001b[1A\u001b[1A\u001b[1A\u001b[1A\u001b[1A\u001b[1A\u001b[1A\u001b[1A\u001b[1A\u001b[1A\u001b[1A\u001b[1A\u001b[1A\u001b[1A\u001b[1A\u001b[1A\u001b[1A\u001b[1A\u001b[1A\u001b[0G\u001b[?25l[+] Building 3.0s (9/10)                                   docker:desktop-linux\n",
      "\u001b[34m => [internal] load build definition from Dockerfile                       0.0s\n",
      "\u001b[0m\u001b[34m => => transferring dockerfile: 401B                                       0.0s\n",
      "\u001b[0m\u001b[34m => [internal] load metadata for docker.io/tiangolo/uvicorn-gunicorn-fast  0.8s\n",
      "\u001b[0m\u001b[34m => [internal] load .dockerignore                                          0.0s\n",
      "\u001b[0m\u001b[34m => => transferring context: 2B                                            0.0s\n",
      "\u001b[0m\u001b[34m => [1/5] FROM docker.io/tiangolo/uvicorn-gunicorn-fastapi:python3.7@sha2  0.0s\n",
      "\u001b[0m\u001b[34m => => resolve docker.io/tiangolo/uvicorn-gunicorn-fastapi:python3.7@sha2  0.0s\n",
      "\u001b[0m\u001b[34m => [internal] load build context                                          0.0s\n",
      "\u001b[0m\u001b[34m => => transferring context: 731B                                          0.0s\n",
      "\u001b[0m\u001b[34m => CACHED [2/5] COPY /app/requirements.txt /app/                          0.0s\n",
      "\u001b[0m\u001b[34m => CACHED [3/5] RUN pip install -r /app/requirements.txt                  0.0s\n",
      "\u001b[0m\u001b[34m => CACHED [4/5] COPY ./model /model/                                      0.0s\n",
      "\u001b[0m\u001b[34m => CACHED [5/5] COPY ./app /app                                           0.0s\n",
      "\u001b[0m => exporting to image                                                     2.1s\n",
      "\u001b[34m => => exporting layers                                                    0.0s\n",
      "\u001b[0m\u001b[34m => => exporting manifest sha256:a7c7de83fbdf148d76b159a01eba73d0ee6e6020  0.0s\n",
      "\u001b[0m\u001b[34m => => exporting config sha256:b07f8da2db557493ee65d134f3fba4578e8882e1f6  0.0s\n",
      "\u001b[0m\u001b[34m => => exporting attestation manifest sha256:f873b5ecf708271278c656aac595  0.0s\n",
      "\u001b[0m\u001b[34m => => exporting manifest list sha256:72a71b9567c2a427e3fe07e0c9d7399c501  0.0s\n",
      "\u001b[0m\u001b[34m => => naming to docker.io/library/fastapi-classifier:v1                   0.0s\n",
      "\u001b[0m => => unpacking to docker.io/library/fastapi-classifier:v1                2.1s\n",
      "\u001b[?25h\u001b[1A\u001b[1A\u001b[1A\u001b[1A\u001b[1A\u001b[1A\u001b[1A\u001b[1A\u001b[1A\u001b[1A\u001b[1A\u001b[1A\u001b[1A\u001b[1A\u001b[1A\u001b[1A\u001b[1A\u001b[1A\u001b[1A\u001b[1A\u001b[1A\u001b[1A\u001b[0G\u001b[?25l[+] Building 3.2s (9/10)                                   docker:desktop-linux\n",
      "\u001b[34m => [internal] load build definition from Dockerfile                       0.0s\n",
      "\u001b[0m\u001b[34m => => transferring dockerfile: 401B                                       0.0s\n",
      "\u001b[0m\u001b[34m => [internal] load metadata for docker.io/tiangolo/uvicorn-gunicorn-fast  0.8s\n",
      "\u001b[0m\u001b[34m => [internal] load .dockerignore                                          0.0s\n",
      "\u001b[0m\u001b[34m => => transferring context: 2B                                            0.0s\n",
      "\u001b[0m\u001b[34m => [1/5] FROM docker.io/tiangolo/uvicorn-gunicorn-fastapi:python3.7@sha2  0.0s\n",
      "\u001b[0m\u001b[34m => => resolve docker.io/tiangolo/uvicorn-gunicorn-fastapi:python3.7@sha2  0.0s\n",
      "\u001b[0m\u001b[34m => [internal] load build context                                          0.0s\n",
      "\u001b[0m\u001b[34m => => transferring context: 731B                                          0.0s\n",
      "\u001b[0m\u001b[34m => CACHED [2/5] COPY /app/requirements.txt /app/                          0.0s\n",
      "\u001b[0m\u001b[34m => CACHED [3/5] RUN pip install -r /app/requirements.txt                  0.0s\n",
      "\u001b[0m\u001b[34m => CACHED [4/5] COPY ./model /model/                                      0.0s\n",
      "\u001b[0m\u001b[34m => CACHED [5/5] COPY ./app /app                                           0.0s\n",
      "\u001b[0m => exporting to image                                                     2.3s\n",
      "\u001b[34m => => exporting layers                                                    0.0s\n",
      "\u001b[0m\u001b[34m => => exporting manifest sha256:a7c7de83fbdf148d76b159a01eba73d0ee6e6020  0.0s\n",
      "\u001b[0m\u001b[34m => => exporting config sha256:b07f8da2db557493ee65d134f3fba4578e8882e1f6  0.0s\n",
      "\u001b[0m\u001b[34m => => exporting attestation manifest sha256:f873b5ecf708271278c656aac595  0.0s\n",
      "\u001b[0m\u001b[34m => => exporting manifest list sha256:72a71b9567c2a427e3fe07e0c9d7399c501  0.0s\n",
      "\u001b[0m\u001b[34m => => naming to docker.io/library/fastapi-classifier:v1                   0.0s\n",
      "\u001b[0m => => unpacking to docker.io/library/fastapi-classifier:v1                2.3s\n",
      "\u001b[?25h\u001b[1A\u001b[1A\u001b[1A\u001b[1A\u001b[1A\u001b[1A\u001b[1A\u001b[1A\u001b[1A\u001b[1A\u001b[1A\u001b[1A\u001b[1A\u001b[1A\u001b[1A\u001b[1A\u001b[1A\u001b[1A\u001b[1A\u001b[1A\u001b[1A\u001b[1A\u001b[0G\u001b[?25l[+] Building 3.2s (9/10)                                   docker:desktop-linux\n",
      "\u001b[34m => [internal] load build definition from Dockerfile                       0.0s\n",
      "\u001b[0m\u001b[34m => => transferring dockerfile: 401B                                       0.0s\n",
      "\u001b[0m\u001b[34m => [internal] load metadata for docker.io/tiangolo/uvicorn-gunicorn-fast  0.8s\n",
      "\u001b[0m\u001b[34m => [internal] load .dockerignore                                          0.0s\n",
      "\u001b[0m\u001b[34m => => transferring context: 2B                                            0.0s\n",
      "\u001b[0m\u001b[34m => [1/5] FROM docker.io/tiangolo/uvicorn-gunicorn-fastapi:python3.7@sha2  0.0s\n",
      "\u001b[0m\u001b[34m => => resolve docker.io/tiangolo/uvicorn-gunicorn-fastapi:python3.7@sha2  0.0s\n",
      "\u001b[0m\u001b[34m => [internal] load build context                                          0.0s\n",
      "\u001b[0m\u001b[34m => => transferring context: 731B                                          0.0s\n",
      "\u001b[0m\u001b[34m => CACHED [2/5] COPY /app/requirements.txt /app/                          0.0s\n",
      "\u001b[0m\u001b[34m => CACHED [3/5] RUN pip install -r /app/requirements.txt                  0.0s\n",
      "\u001b[0m\u001b[34m => CACHED [4/5] COPY ./model /model/                                      0.0s\n",
      "\u001b[0m\u001b[34m => CACHED [5/5] COPY ./app /app                                           0.0s\n",
      "\u001b[0m => exporting to image                                                     2.3s\n",
      "\u001b[34m => => exporting layers                                                    0.0s\n",
      "\u001b[0m\u001b[34m => => exporting manifest sha256:a7c7de83fbdf148d76b159a01eba73d0ee6e6020  0.0s\n",
      "\u001b[0m\u001b[34m => => exporting config sha256:b07f8da2db557493ee65d134f3fba4578e8882e1f6  0.0s\n",
      "\u001b[0m\u001b[34m => => exporting attestation manifest sha256:f873b5ecf708271278c656aac595  0.0s\n",
      "\u001b[0m\u001b[34m => => exporting manifest list sha256:72a71b9567c2a427e3fe07e0c9d7399c501  0.0s\n",
      "\u001b[0m\u001b[34m => => naming to docker.io/library/fastapi-classifier:v1                   0.0s\n",
      "\u001b[0m\u001b[34m => => unpacking to docker.io/library/fastapi-classifier:v1                2.3s\n",
      "\u001b[0m\u001b[?25h\u001b[1A\u001b[1A\u001b[1A\u001b[1A\u001b[1A\u001b[1A\u001b[1A\u001b[1A\u001b[1A\u001b[1A\u001b[1A\u001b[1A\u001b[1A\u001b[1A\u001b[1A\u001b[1A\u001b[1A\u001b[1A\u001b[1A\u001b[1A\u001b[1A\u001b[1A\u001b[0G\u001b[?25l[+] Building 3.3s (10/10) FINISHED                         docker:desktop-linux\n",
      "\u001b[34m => [internal] load build definition from Dockerfile                       0.0s\n",
      "\u001b[0m\u001b[34m => => transferring dockerfile: 401B                                       0.0s\n",
      "\u001b[0m\u001b[34m => [internal] load metadata for docker.io/tiangolo/uvicorn-gunicorn-fast  0.8s\n",
      "\u001b[0m\u001b[34m => [internal] load .dockerignore                                          0.0s\n",
      "\u001b[0m\u001b[34m => => transferring context: 2B                                            0.0s\n",
      "\u001b[0m\u001b[34m => [1/5] FROM docker.io/tiangolo/uvicorn-gunicorn-fastapi:python3.7@sha2  0.0s\n",
      "\u001b[0m\u001b[34m => => resolve docker.io/tiangolo/uvicorn-gunicorn-fastapi:python3.7@sha2  0.0s\n",
      "\u001b[0m\u001b[34m => [internal] load build context                                          0.0s\n",
      "\u001b[0m\u001b[34m => => transferring context: 731B                                          0.0s\n",
      "\u001b[0m\u001b[34m => CACHED [2/5] COPY /app/requirements.txt /app/                          0.0s\n",
      "\u001b[0m\u001b[34m => CACHED [3/5] RUN pip install -r /app/requirements.txt                  0.0s\n",
      "\u001b[0m\u001b[34m => CACHED [4/5] COPY ./model /model/                                      0.0s\n",
      "\u001b[0m\u001b[34m => CACHED [5/5] COPY ./app /app                                           0.0s\n",
      "\u001b[0m\u001b[34m => exporting to image                                                     2.3s\n",
      "\u001b[0m\u001b[34m => => exporting layers                                                    0.0s\n",
      "\u001b[0m\u001b[34m => => exporting manifest sha256:a7c7de83fbdf148d76b159a01eba73d0ee6e6020  0.0s\n",
      "\u001b[0m\u001b[34m => => exporting config sha256:b07f8da2db557493ee65d134f3fba4578e8882e1f6  0.0s\n",
      "\u001b[0m\u001b[34m => => exporting attestation manifest sha256:f873b5ecf708271278c656aac595  0.0s\n",
      "\u001b[0m\u001b[34m => => exporting manifest list sha256:72a71b9567c2a427e3fe07e0c9d7399c501  0.0s\n",
      "\u001b[0m\u001b[34m => => naming to docker.io/library/fastapi-classifier:v1                   0.0s\n",
      "\u001b[0m\u001b[34m => => unpacking to docker.io/library/fastapi-classifier:v1                2.3s\n",
      "\u001b[0m\u001b[?25h\n",
      "View build details: \u001b]8;;docker-desktop://dashboard/build/desktop-linux/desktop-linux/ugfxalt02qhxtlrf68yiu7urn\u001b\\docker-desktop://dashboard/build/desktop-linux/desktop-linux/ugfxalt02qhxtlrf68yiu7urn\u001b]8;;\u001b\\\n",
      "\u001b[1m\n",
      "What's next:\u001b[0m\n",
      "    View a summary of image vulnerabilities and recommendations → \u001b[36mdocker scout quickview \u001b[0m\n"
     ]
    }
   ],
   "source": [
    "!docker build -t fastapi-classifier:v1 ."
   ]
  },
  {
   "cell_type": "code",
   "execution_count": 13,
   "metadata": {},
   "outputs": [
    {
     "name": "stdout",
     "output_type": "stream",
     "text": [
      "fastapi-classifier                        v1                                                                            72a71b9567c2   2 hours ago     2.23GB\n"
     ]
    }
   ],
   "source": [
    "!docker images | grep fastapi"
   ]
  },
  {
   "cell_type": "markdown",
   "metadata": {},
   "source": [
    "##### Run containerize model server"
   ]
  },
  {
   "cell_type": "code",
   "execution_count": 14,
   "metadata": {},
   "outputs": [
    {
     "name": "stdout",
     "output_type": "stream",
     "text": [
      "0497b6d7d841fa41e571f7353fa0e49ac84b7167cc00d0cc265388f2b523afc9\n"
     ]
    }
   ],
   "source": [
    "!docker run --name fastapi-server -d -p 80:80 -e WORKERS_PER_CORE=\"3\" fastapi-classifier:v1"
   ]
  },
  {
   "cell_type": "code",
   "execution_count": 15,
   "metadata": {},
   "outputs": [
    {
     "name": "stdout",
     "output_type": "stream",
     "text": [
      "CONTAINER ID   IMAGE                   COMMAND       CREATED         STATUS         PORTS                NAMES\n",
      "0497b6d7d841   fastapi-classifier:v1   \"/start.sh\"   2 minutes ago   Up 2 minutes   0.0.0.0:80->80/tcp   fastapi-server\n"
     ]
    }
   ],
   "source": [
    "!docker ps"
   ]
  },
  {
   "cell_type": "markdown",
   "metadata": {},
   "source": [
    "##### Send request"
   ]
  },
  {
   "cell_type": "code",
   "execution_count": 17,
   "metadata": {},
   "outputs": [
    {
     "name": "stdout",
     "output_type": "stream",
     "text": [
      "{\"prediction\":[\"Placed\"]}\n"
     ]
    }
   ],
   "source": [
    "import requests\n",
    "data = {\n",
    "  \"sl_no\": 112,\n",
    "  \"ssc_p\": 84.0,\n",
    "  \"hsc_p\": 90.9,\n",
    "  \"degree_p\": 64.5,\n",
    "  \"etest_p\": 86.04,\n",
    "  \"mba_p\": 59.42,\n",
    "  \"gender\": \"M\",\n",
    "  \"ssc_b\": \"Others\",\n",
    "  \"hsc_b\": \"Others\",\n",
    "  \"hsc_s\": \"Science\",\n",
    "  \"degree_t\": \"Sci&Tech\",\n",
    "  \"workex\": \"No\",\n",
    "  \"specialisation\": \"Mkt&Fin\"\n",
    "}\n",
    "response = requests.post(\"http://0.0.0.0:80/predict\", json=data)\n",
    "print(response.text)"
   ]
  },
  {
   "cell_type": "code",
   "execution_count": 24,
   "metadata": {},
   "outputs": [
    {
     "name": "stdout",
     "output_type": "stream",
     "text": [
      "{\"prediction\":[\"Not Placed\"]}\n"
     ]
    }
   ],
   "source": [
    "data = {\n",
    "  \"sl_no\": 113,\n",
    "  \"ssc_p\": 52.0,\n",
    "  \"hsc_p\": 57.0,\n",
    "  \"degree_p\": 50.8,\n",
    "  \"etest_p\": 67.0,\n",
    "  \"mba_p\": 62.79,\n",
    "  \"gender\": \"M\",\n",
    "  \"ssc_b\": \"Central\",\n",
    "  \"hsc_b\": \"Central\",\n",
    "  \"hsc_s\": \"Commerce\",\n",
    "  \"degree_t\": \"Comm&Mgmt\",\n",
    "  \"workex\": \"No\",\n",
    "  \"specialisation\": \"Mkt&HR\"\n",
    "}\n",
    "response = requests.post(\"http://0.0.0.0:80/predict\", json=data)\n",
    "print(response.text)"
   ]
  },
  {
   "cell_type": "markdown",
   "metadata": {},
   "source": [
    "##### Container logs"
   ]
  },
  {
   "cell_type": "code",
   "execution_count": 25,
   "metadata": {},
   "outputs": [
    {
     "name": "stdout",
     "output_type": "stream",
     "text": [
      "Checking for script in /app/prestart.sh\n",
      "Running script /app/prestart.sh\n",
      "Running inside /app/prestart.sh, you could add migrations to this file, e.g.:\n",
      "\n",
      "#! /usr/bin/env bash\n",
      "\n",
      "# Let the DB start\n",
      "sleep 10;\n",
      "# Run migrations\n",
      "alembic upgrade head\n",
      "\n",
      "{\"loglevel\": \"info\", \"workers\": 30, \"bind\": \"0.0.0.0:80\", \"graceful_timeout\": 120, \"timeout\": 120, \"keepalive\": 5, \"errorlog\": \"-\", \"accesslog\": \"-\", \"workers_per_core\": 3.0, \"use_max_workers\": null, \"host\": \"0.0.0.0\", \"port\": \"80\"}\n",
      "[2024-11-09 21:57:43 +0000] [1] [INFO] Starting gunicorn 23.0.0\n",
      "[2024-11-09 21:57:43 +0000] [1] [INFO] Listening at: http://0.0.0.0:80 (1)\n",
      "[2024-11-09 21:57:43 +0000] [1] [INFO] Using worker: uvicorn.workers.UvicornWorker\n",
      "[2024-11-09 21:57:43 +0000] [9] [INFO] Booting worker with pid: 9\n",
      "[2024-11-09 21:57:43 +0000] [10] [INFO] Booting worker with pid: 10\n",
      "[2024-11-09 21:57:43 +0000] [20] [INFO] Booting worker with pid: 20\n",
      "[2024-11-09 21:57:43 +0000] [39] [INFO] Booting worker with pid: 39\n",
      "[2024-11-09 21:57:43 +0000] [49] [INFO] Booting worker with pid: 49\n",
      "[2024-11-09 21:57:43 +0000] [59] [INFO] Booting worker with pid: 59\n",
      "[2024-11-09 21:57:43 +0000] [60] [INFO] Booting worker with pid: 60\n",
      "[2024-11-09 21:57:43 +0000] [61] [INFO] Booting worker with pid: 61\n",
      "[2024-11-09 21:57:43 +0000] [80] [INFO] Booting worker with pid: 80\n",
      "[2024-11-09 21:57:43 +0000] [81] [INFO] Booting worker with pid: 81\n",
      "[2024-11-09 21:57:43 +0000] [91] [INFO] Booting worker with pid: 91\n",
      "[2024-11-09 21:57:43 +0000] [110] [INFO] Booting worker with pid: 110\n",
      "[2024-11-09 21:57:43 +0000] [120] [INFO] Booting worker with pid: 120\n",
      "[2024-11-09 21:57:43 +0000] [121] [INFO] Booting worker with pid: 121\n",
      "[2024-11-09 21:57:44 +0000] [131] [INFO] Booting worker with pid: 131\n",
      "[2024-11-09 21:57:44 +0000] [141] [INFO] Booting worker with pid: 141\n",
      "[2024-11-09 21:57:44 +0000] [169] [INFO] Booting worker with pid: 169\n",
      "[2024-11-09 21:57:44 +0000] [170] [INFO] Booting worker with pid: 170\n",
      "[2024-11-09 21:57:44 +0000] [180] [INFO] Booting worker with pid: 180\n",
      "[2024-11-09 21:57:44 +0000] [190] [INFO] Booting worker with pid: 190\n",
      "[2024-11-09 21:57:44 +0000] [200] [INFO] Booting worker with pid: 200\n",
      "[2024-11-09 21:57:44 +0000] [201] [INFO] Booting worker with pid: 201\n",
      "[2024-11-09 21:57:44 +0000] [211] [INFO] Booting worker with pid: 211\n",
      "[2024-11-09 21:57:44 +0000] [221] [INFO] Booting worker with pid: 221\n",
      "[2024-11-09 21:57:44 +0000] [231] [INFO] Booting worker with pid: 231\n",
      "[2024-11-09 21:57:44 +0000] [232] [INFO] Booting worker with pid: 232\n",
      "[2024-11-09 21:57:44 +0000] [251] [INFO] Booting worker with pid: 251\n",
      "[2024-11-09 21:57:44 +0000] [252] [INFO] Booting worker with pid: 252\n",
      "/usr/local/lib/python3.7/site-packages/sklearn/base.py:338: UserWarning: Trying to unpickle estimator LabelEncoder from version 1.3.2 when using version 1.0.2. This might lead to breaking code or invalid results. Use at your own risk. For more info please refer to:\n",
      "https://scikit-learn.org/stable/modules/model_persistence.html#security-maintainability-limitations\n",
      "  UserWarning,\n",
      "[2024-11-09 21:57:45 +0000] [290] [INFO] Booting worker with pid: 290\n",
      "[2024-11-09 21:57:45 +0000] [291] [INFO] Booting worker with pid: 291\n",
      "[2024-11-09 21:57:45 +0000] [59] [INFO] Started server process [59]\n",
      "[2024-11-09 21:57:45 +0000] [59] [INFO] Waiting for application startup.\n",
      "[2024-11-09 21:57:45 +0000] [59] [INFO] Application startup complete.\n",
      "/usr/local/lib/python3.7/site-packages/sklearn/base.py:338: UserWarning: Trying to unpickle estimator LabelEncoder from version 1.3.2 when using version 1.0.2. This might lead to breaking code or invalid results. Use at your own risk. For more info please refer to:\n",
      "https://scikit-learn.org/stable/modules/model_persistence.html#security-maintainability-limitations\n",
      "  UserWarning,\n",
      "/usr/local/lib/python3.7/site-packages/sklearn/base.py:338: UserWarning: Trying to unpickle estimator LabelEncoder from version 1.3.2 when using version 1.0.2. This might lead to breaking code or invalid results. Use at your own risk. For more info please refer to:\n",
      "https://scikit-learn.org/stable/modules/model_persistence.html#security-maintainability-limitations\n",
      "  UserWarning,\n",
      "[2024-11-09 21:57:45 +0000] [49] [INFO] Started server process [49]\n",
      "[2024-11-09 21:57:45 +0000] [49] [INFO] Waiting for application startup.\n",
      "[2024-11-09 21:57:45 +0000] [49] [INFO] Application startup complete.\n",
      "/usr/local/lib/python3.7/site-packages/sklearn/base.py:338: UserWarning: Trying to unpickle estimator LabelEncoder from version 1.3.2 when using version 1.0.2. This might lead to breaking code or invalid results. Use at your own risk. For more info please refer to:\n",
      "https://scikit-learn.org/stable/modules/model_persistence.html#security-maintainability-limitations\n",
      "  UserWarning,\n",
      "[2024-11-09 21:57:45 +0000] [61] [INFO] Started server process [61]\n",
      "[2024-11-09 21:57:45 +0000] [61] [INFO] Waiting for application startup.\n",
      "[2024-11-09 21:57:45 +0000] [61] [INFO] Application startup complete.\n",
      "[2024-11-09 21:57:45 +0000] [20] [INFO] Started server process [20]\n",
      "[2024-11-09 21:57:45 +0000] [20] [INFO] Waiting for application startup.\n",
      "[2024-11-09 21:57:46 +0000] [20] [INFO] Application startup complete.\n",
      "/usr/local/lib/python3.7/site-packages/sklearn/base.py:338: UserWarning: Trying to unpickle estimator LabelEncoder from version 1.3.2 when using version 1.0.2. This might lead to breaking code or invalid results. Use at your own risk. For more info please refer to:\n",
      "https://scikit-learn.org/stable/modules/model_persistence.html#security-maintainability-limitations\n",
      "  UserWarning,\n",
      "/usr/local/lib/python3.7/site-packages/sklearn/base.py:338: UserWarning: Trying to unpickle estimator LabelEncoder from version 1.3.2 when using version 1.0.2. This might lead to breaking code or invalid results. Use at your own risk. For more info please refer to:\n",
      "https://scikit-learn.org/stable/modules/model_persistence.html#security-maintainability-limitations\n",
      "  UserWarning,\n",
      "/usr/local/lib/python3.7/site-packages/sklearn/base.py:338: UserWarning: Trying to unpickle estimator LabelEncoder from version 1.3.2 when using version 1.0.2. This might lead to breaking code or invalid results. Use at your own risk. For more info please refer to:\n",
      "https://scikit-learn.org/stable/modules/model_persistence.html#security-maintainability-limitations\n",
      "  UserWarning,\n",
      "[2024-11-09 21:57:46 +0000] [200] [INFO] Started server process [200]\n",
      "[2024-11-09 21:57:46 +0000] [200] [INFO] Waiting for application startup.\n",
      "[2024-11-09 21:57:46 +0000] [200] [INFO] Application startup complete.\n",
      "/usr/local/lib/python3.7/site-packages/sklearn/base.py:338: UserWarning: Trying to unpickle estimator LabelEncoder from version 1.3.2 when using version 1.0.2. This might lead to breaking code or invalid results. Use at your own risk. For more info please refer to:\n",
      "https://scikit-learn.org/stable/modules/model_persistence.html#security-maintainability-limitations\n",
      "  UserWarning,\n",
      "/usr/local/lib/python3.7/site-packages/sklearn/base.py:338: UserWarning: Trying to unpickle estimator LabelEncoder from version 1.3.2 when using version 1.0.2. This might lead to breaking code or invalid results. Use at your own risk. For more info please refer to:\n",
      "https://scikit-learn.org/stable/modules/model_persistence.html#security-maintainability-limitations\n",
      "  UserWarning,\n",
      "[2024-11-09 21:57:46 +0000] [291] [INFO] Started server process [291]\n",
      "[2024-11-09 21:57:46 +0000] [291] [INFO] Waiting for application startup.\n",
      "[2024-11-09 21:57:46 +0000] [291] [INFO] Application startup complete.\n",
      "/usr/local/lib/python3.7/site-packages/sklearn/base.py:338: UserWarning: Trying to unpickle estimator LabelEncoder from version 1.3.2 when using version 1.0.2. This might lead to breaking code or invalid results. Use at your own risk. For more info please refer to:\n",
      "https://scikit-learn.org/stable/modules/model_persistence.html#security-maintainability-limitations\n",
      "  UserWarning,\n",
      "/usr/local/lib/python3.7/site-packages/sklearn/base.py:338: UserWarning: Trying to unpickle estimator LabelEncoder from version 1.3.2 when using version 1.0.2. This might lead to breaking code or invalid results. Use at your own risk. For more info please refer to:\n",
      "https://scikit-learn.org/stable/modules/model_persistence.html#security-maintainability-limitations\n",
      "  UserWarning,\n",
      "[2024-11-09 21:57:46 +0000] [60] [INFO] Started server process [60]\n",
      "[2024-11-09 21:57:46 +0000] [60] [INFO] Waiting for application startup.\n",
      "[2024-11-09 21:57:46 +0000] [60] [INFO] Application startup complete.\n",
      "[2024-11-09 21:57:46 +0000] [252] [INFO] Started server process [252]\n",
      "[2024-11-09 21:57:46 +0000] [252] [INFO] Waiting for application startup.\n",
      "[2024-11-09 21:57:46 +0000] [252] [INFO] Application startup complete.\n",
      "[2024-11-09 21:57:46 +0000] [81] [INFO] Started server process [81]\n",
      "[2024-11-09 21:57:46 +0000] [81] [INFO] Waiting for application startup.\n",
      "[2024-11-09 21:57:46 +0000] [81] [INFO] Application startup complete.\n",
      "[2024-11-09 21:57:46 +0000] [39] [INFO] Started server process [39]\n",
      "[2024-11-09 21:57:46 +0000] [39] [INFO] Waiting for application startup.\n",
      "[2024-11-09 21:57:46 +0000] [39] [INFO] Application startup complete.\n",
      "[2024-11-09 21:57:46 +0000] [10] [INFO] Started server process [10]\n",
      "[2024-11-09 21:57:46 +0000] [10] [INFO] Waiting for application startup.\n",
      "[2024-11-09 21:57:46 +0000] [10] [INFO] Application startup complete.\n",
      "/usr/local/lib/python3.7/site-packages/sklearn/base.py:338: UserWarning: Trying to unpickle estimator LabelEncoder from version 1.3.2 when using version 1.0.2. This might lead to breaking code or invalid results. Use at your own risk. For more info please refer to:\n",
      "https://scikit-learn.org/stable/modules/model_persistence.html#security-maintainability-limitations\n",
      "  UserWarning,\n",
      "/usr/local/lib/python3.7/site-packages/sklearn/base.py:338: UserWarning: Trying to unpickle estimator LabelEncoder from version 1.3.2 when using version 1.0.2. This might lead to breaking code or invalid results. Use at your own risk. For more info please refer to:\n",
      "https://scikit-learn.org/stable/modules/model_persistence.html#security-maintainability-limitations\n",
      "  UserWarning,\n",
      "[2024-11-09 21:57:46 +0000] [9] [INFO] Started server process [9]\n",
      "[2024-11-09 21:57:46 +0000] [9] [INFO] Waiting for application startup.\n",
      "[2024-11-09 21:57:46 +0000] [9] [INFO] Application startup complete.\n",
      "[2024-11-09 21:57:46 +0000] [110] [INFO] Started server process [110]\n",
      "[2024-11-09 21:57:46 +0000] [110] [INFO] Waiting for application startup.\n",
      "[2024-11-09 21:57:46 +0000] [110] [INFO] Application startup complete.\n",
      "/usr/local/lib/python3.7/site-packages/sklearn/base.py:338: UserWarning: Trying to unpickle estimator LabelEncoder from version 1.3.2 when using version 1.0.2. This might lead to breaking code or invalid results. Use at your own risk. For more info please refer to:\n",
      "https://scikit-learn.org/stable/modules/model_persistence.html#security-maintainability-limitations\n",
      "  UserWarning,\n",
      "[2024-11-09 21:57:46 +0000] [131] [INFO] Started server process [131]\n",
      "[2024-11-09 21:57:46 +0000] [131] [INFO] Waiting for application startup.\n",
      "[2024-11-09 21:57:46 +0000] [131] [INFO] Application startup complete.\n",
      "/usr/local/lib/python3.7/site-packages/sklearn/base.py:338: UserWarning: Trying to unpickle estimator LabelEncoder from version 1.3.2 when using version 1.0.2. This might lead to breaking code or invalid results. Use at your own risk. For more info please refer to:\n",
      "https://scikit-learn.org/stable/modules/model_persistence.html#security-maintainability-limitations\n",
      "  UserWarning,\n",
      "[2024-11-09 21:57:46 +0000] [170] [INFO] Started server process [170]\n",
      "[2024-11-09 21:57:46 +0000] [170] [INFO] Waiting for application startup.\n",
      "[2024-11-09 21:57:46 +0000] [170] [INFO] Application startup complete.\n",
      "/usr/local/lib/python3.7/site-packages/sklearn/base.py:338: UserWarning: Trying to unpickle estimator LabelEncoder from version 1.3.2 when using version 1.0.2. This might lead to breaking code or invalid results. Use at your own risk. For more info please refer to:\n",
      "https://scikit-learn.org/stable/modules/model_persistence.html#security-maintainability-limitations\n",
      "  UserWarning,\n",
      "/usr/local/lib/python3.7/site-packages/sklearn/base.py:338: UserWarning: Trying to unpickle estimator LabelEncoder from version 1.3.2 when using version 1.0.2. This might lead to breaking code or invalid results. Use at your own risk. For more info please refer to:\n",
      "https://scikit-learn.org/stable/modules/model_persistence.html#security-maintainability-limitations\n",
      "  UserWarning,\n",
      "[2024-11-09 21:57:46 +0000] [180] [INFO] Started server process [180]\n",
      "[2024-11-09 21:57:46 +0000] [180] [INFO] Waiting for application startup.\n",
      "[2024-11-09 21:57:46 +0000] [180] [INFO] Application startup complete.\n",
      "/usr/local/lib/python3.7/site-packages/sklearn/base.py:338: UserWarning: Trying to unpickle estimator LabelEncoder from version 1.3.2 when using version 1.0.2. This might lead to breaking code or invalid results. Use at your own risk. For more info please refer to:\n",
      "https://scikit-learn.org/stable/modules/model_persistence.html#security-maintainability-limitations\n",
      "  UserWarning,\n",
      "[2024-11-09 21:57:46 +0000] [91] [INFO] Started server process [91]\n",
      "[2024-11-09 21:57:46 +0000] [91] [INFO] Waiting for application startup.\n",
      "[2024-11-09 21:57:46 +0000] [91] [INFO] Application startup complete.\n",
      "[2024-11-09 21:57:46 +0000] [80] [INFO] Started server process [80]\n",
      "[2024-11-09 21:57:46 +0000] [80] [INFO] Waiting for application startup.\n",
      "[2024-11-09 21:57:46 +0000] [80] [INFO] Application startup complete.\n",
      "/usr/local/lib/python3.7/site-packages/sklearn/base.py:338: UserWarning: Trying to unpickle estimator LabelEncoder from version 1.3.2 when using version 1.0.2. This might lead to breaking code or invalid results. Use at your own risk. For more info please refer to:\n",
      "https://scikit-learn.org/stable/modules/model_persistence.html#security-maintainability-limitations\n",
      "  UserWarning,\n",
      "[2024-11-09 21:57:47 +0000] [231] [INFO] Started server process [231]\n",
      "[2024-11-09 21:57:47 +0000] [231] [INFO] Waiting for application startup.\n",
      "[2024-11-09 21:57:47 +0000] [231] [INFO] Application startup complete.\n",
      "/usr/local/lib/python3.7/site-packages/sklearn/base.py:338: UserWarning: Trying to unpickle estimator LabelEncoder from version 1.3.2 when using version 1.0.2. This might lead to breaking code or invalid results. Use at your own risk. For more info please refer to:\n",
      "https://scikit-learn.org/stable/modules/model_persistence.html#security-maintainability-limitations\n",
      "  UserWarning,\n",
      "/usr/local/lib/python3.7/site-packages/sklearn/base.py:338: UserWarning: Trying to unpickle estimator LabelEncoder from version 1.3.2 when using version 1.0.2. This might lead to breaking code or invalid results. Use at your own risk. For more info please refer to:\n",
      "https://scikit-learn.org/stable/modules/model_persistence.html#security-maintainability-limitations\n",
      "  UserWarning,\n",
      "[2024-11-09 21:57:47 +0000] [120] [INFO] Started server process [120]\n",
      "[2024-11-09 21:57:47 +0000] [120] [INFO] Waiting for application startup.\n",
      "[2024-11-09 21:57:47 +0000] [120] [INFO] Application startup complete.\n",
      "[2024-11-09 21:57:47 +0000] [232] [INFO] Started server process [232]\n",
      "[2024-11-09 21:57:47 +0000] [232] [INFO] Waiting for application startup.\n",
      "[2024-11-09 21:57:47 +0000] [232] [INFO] Application startup complete.\n",
      "/usr/local/lib/python3.7/site-packages/sklearn/base.py:338: UserWarning: Trying to unpickle estimator LabelEncoder from version 1.3.2 when using version 1.0.2. This might lead to breaking code or invalid results. Use at your own risk. For more info please refer to:\n",
      "https://scikit-learn.org/stable/modules/model_persistence.html#security-maintainability-limitations\n",
      "  UserWarning,\n",
      "[2024-11-09 21:57:47 +0000] [141] [INFO] Started server process [141]\n",
      "[2024-11-09 21:57:47 +0000] [141] [INFO] Waiting for application startup.\n",
      "[2024-11-09 21:57:47 +0000] [141] [INFO] Application startup complete.\n",
      "/usr/local/lib/python3.7/site-packages/sklearn/base.py:338: UserWarning: Trying to unpickle estimator LabelEncoder from version 1.3.2 when using version 1.0.2. This might lead to breaking code or invalid results. Use at your own risk. For more info please refer to:\n",
      "https://scikit-learn.org/stable/modules/model_persistence.html#security-maintainability-limitations\n",
      "  UserWarning,\n",
      "/usr/local/lib/python3.7/site-packages/sklearn/base.py:338: UserWarning: Trying to unpickle estimator LabelEncoder from version 1.3.2 when using version 1.0.2. This might lead to breaking code or invalid results. Use at your own risk. For more info please refer to:\n",
      "https://scikit-learn.org/stable/modules/model_persistence.html#security-maintainability-limitations\n",
      "  UserWarning,\n",
      "/usr/local/lib/python3.7/site-packages/sklearn/base.py:338: UserWarning: Trying to unpickle estimator LabelEncoder from version 1.3.2 when using version 1.0.2. This might lead to breaking code or invalid results. Use at your own risk. For more info please refer to:\n",
      "https://scikit-learn.org/stable/modules/model_persistence.html#security-maintainability-limitations\n",
      "  UserWarning,\n",
      "[2024-11-09 21:57:47 +0000] [169] [INFO] Started server process [169]\n",
      "[2024-11-09 21:57:47 +0000] [169] [INFO] Waiting for application startup.\n",
      "[2024-11-09 21:57:47 +0000] [169] [INFO] Application startup complete.\n",
      "[2024-11-09 21:57:47 +0000] [190] [INFO] Started server process [190]\n",
      "[2024-11-09 21:57:47 +0000] [190] [INFO] Waiting for application startup.\n",
      "[2024-11-09 21:57:47 +0000] [190] [INFO] Application startup complete.\n",
      "[2024-11-09 21:57:47 +0000] [211] [INFO] Started server process [211]\n",
      "[2024-11-09 21:57:47 +0000] [211] [INFO] Waiting for application startup.\n",
      "[2024-11-09 21:57:47 +0000] [211] [INFO] Application startup complete.\n",
      "/usr/local/lib/python3.7/site-packages/sklearn/base.py:338: UserWarning: Trying to unpickle estimator LabelEncoder from version 1.3.2 when using version 1.0.2. This might lead to breaking code or invalid results. Use at your own risk. For more info please refer to:\n",
      "https://scikit-learn.org/stable/modules/model_persistence.html#security-maintainability-limitations\n",
      "  UserWarning,\n",
      "/usr/local/lib/python3.7/site-packages/sklearn/base.py:338: UserWarning: Trying to unpickle estimator LabelEncoder from version 1.3.2 when using version 1.0.2. This might lead to breaking code or invalid results. Use at your own risk. For more info please refer to:\n",
      "https://scikit-learn.org/stable/modules/model_persistence.html#security-maintainability-limitations\n",
      "  UserWarning,\n",
      "/usr/local/lib/python3.7/site-packages/sklearn/base.py:338: UserWarning: Trying to unpickle estimator LabelEncoder from version 1.3.2 when using version 1.0.2. This might lead to breaking code or invalid results. Use at your own risk. For more info please refer to:\n",
      "https://scikit-learn.org/stable/modules/model_persistence.html#security-maintainability-limitations\n",
      "  UserWarning,\n",
      "[2024-11-09 21:57:47 +0000] [221] [INFO] Started server process [221]\n",
      "[2024-11-09 21:57:47 +0000] [221] [INFO] Waiting for application startup.\n",
      "[2024-11-09 21:57:47 +0000] [221] [INFO] Application startup complete.\n",
      "[2024-11-09 21:57:47 +0000] [121] [INFO] Started server process [121]\n",
      "[2024-11-09 21:57:47 +0000] [121] [INFO] Waiting for application startup.\n",
      "[2024-11-09 21:57:47 +0000] [121] [INFO] Application startup complete.\n",
      "[2024-11-09 21:57:47 +0000] [290] [INFO] Started server process [290]\n",
      "[2024-11-09 21:57:47 +0000] [290] [INFO] Waiting for application startup.\n",
      "[2024-11-09 21:57:47 +0000] [290] [INFO] Application startup complete.\n",
      "/usr/local/lib/python3.7/site-packages/sklearn/base.py:338: UserWarning: Trying to unpickle estimator LabelEncoder from version 1.3.2 when using version 1.0.2. This might lead to breaking code or invalid results. Use at your own risk. For more info please refer to:\n",
      "https://scikit-learn.org/stable/modules/model_persistence.html#security-maintainability-limitations\n",
      "  UserWarning,\n",
      "[2024-11-09 21:57:47 +0000] [201] [INFO] Started server process [201]\n",
      "[2024-11-09 21:57:47 +0000] [201] [INFO] Waiting for application startup.\n",
      "[2024-11-09 21:57:47 +0000] [201] [INFO] Application startup complete.\n",
      "/usr/local/lib/python3.7/site-packages/sklearn/base.py:338: UserWarning: Trying to unpickle estimator LabelEncoder from version 1.3.2 when using version 1.0.2. This might lead to breaking code or invalid results. Use at your own risk. For more info please refer to:\n",
      "https://scikit-learn.org/stable/modules/model_persistence.html#security-maintainability-limitations\n",
      "  UserWarning,\n",
      "[2024-11-09 21:57:47 +0000] [251] [INFO] Started server process [251]\n",
      "[2024-11-09 21:57:47 +0000] [251] [INFO] Waiting for application startup.\n",
      "[2024-11-09 21:57:47 +0000] [251] [INFO] Application startup complete.\n",
      "172.17.0.1:60778 - \"GET / HTTP/1.1\" 200\n",
      "172.17.0.1:60778 - \"GET /favicon.ico HTTP/1.1\" 404\n",
      "172.17.0.1:65216 - \"GET / HTTP/1.1\" 200\n",
      "172.17.0.1:60614 - \"GET / HTTP/1.1\" 200\n",
      "172.17.0.1:65480 - \"GET /docs HTTP/1.1\" 200\n",
      "172.17.0.1:65480 - \"GET /openapi.json HTTP/1.1\" 200\n",
      "172.17.0.1:58970 - \"POST /predict HTTP/1.1\" 200\n",
      "172.17.0.1:58974 - \"POST /predict HTTP/1.1\" 200\n",
      "172.17.0.1:64354 - \"POST /predict HTTP/1.1\" 200\n"
     ]
    }
   ],
   "source": [
    "!docker logs 0497b6d7d841"
   ]
  },
  {
   "cell_type": "code",
   "execution_count": null,
   "metadata": {},
   "outputs": [],
   "source": []
  }
 ],
 "metadata": {
  "kernelspec": {
   "display_name": "k8s-app-deploy",
   "language": "python",
   "name": "python3"
  },
  "language_info": {
   "codemirror_mode": {
    "name": "ipython",
    "version": 3
   },
   "file_extension": ".py",
   "mimetype": "text/x-python",
   "name": "python",
   "nbconvert_exporter": "python",
   "pygments_lexer": "ipython3",
   "version": "3.8.20"
  }
 },
 "nbformat": 4,
 "nbformat_minor": 2
}
